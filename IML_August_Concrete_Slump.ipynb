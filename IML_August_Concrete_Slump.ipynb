{
 "cells": [
  {
   "cell_type": "markdown",
   "metadata": {},
   "source": [
    "# Datensatz n=103"
   ]
  },
  {
   "cell_type": "code",
   "execution_count": 2,
   "metadata": {},
   "outputs": [
    {
     "name": "stdout",
     "output_type": "stream",
     "text": [
      "Average: tensor([[229.8942,  77.9738, 149.0146,   0.9620,   8.5398, 883.9785, 739.6048,\n",
      "          18.0485,  49.6107, 197.1680]]), Standard Deviation: tensor([[78.8772, 60.4614, 85.4181,  0.3318,  2.8075, 88.3914, 63.3421,  8.7508,\n",
      "         17.5686, 20.2082]])\n"
     ]
    },
    {
     "data": {
      "text/html": [
       "<div>\n",
       "<style scoped>\n",
       "    .dataframe tbody tr th:only-of-type {\n",
       "        vertical-align: middle;\n",
       "    }\n",
       "\n",
       "    .dataframe tbody tr th {\n",
       "        vertical-align: top;\n",
       "    }\n",
       "\n",
       "    .dataframe thead th {\n",
       "        text-align: right;\n",
       "    }\n",
       "</style>\n",
       "<table border=\"1\" class=\"dataframe\">\n",
       "  <thead>\n",
       "    <tr style=\"text-align: right;\">\n",
       "      <th></th>\n",
       "      <th>No</th>\n",
       "      <th>Cement</th>\n",
       "      <th>Slag</th>\n",
       "      <th>Fly ash</th>\n",
       "      <th>Water/Cement Ratio</th>\n",
       "      <th>SP</th>\n",
       "      <th>Coarse Aggr.</th>\n",
       "      <th>Fine Aggr.</th>\n",
       "      <th>SLUMP(cm)</th>\n",
       "      <th>FLOW(cm)</th>\n",
       "      <th>Water</th>\n",
       "      <th>Compressive Strength (28-day)(Mpa)</th>\n",
       "    </tr>\n",
       "  </thead>\n",
       "  <tbody>\n",
       "    <tr>\n",
       "      <th>0</th>\n",
       "      <td>1</td>\n",
       "      <td>273.0</td>\n",
       "      <td>82.0</td>\n",
       "      <td>105.0</td>\n",
       "      <td>0.769231</td>\n",
       "      <td>9.0</td>\n",
       "      <td>904.0</td>\n",
       "      <td>680.0</td>\n",
       "      <td>23.0</td>\n",
       "      <td>62.0</td>\n",
       "      <td>210.0</td>\n",
       "      <td>34.99</td>\n",
       "    </tr>\n",
       "    <tr>\n",
       "      <th>1</th>\n",
       "      <td>2</td>\n",
       "      <td>163.0</td>\n",
       "      <td>149.0</td>\n",
       "      <td>191.0</td>\n",
       "      <td>1.104294</td>\n",
       "      <td>12.0</td>\n",
       "      <td>843.0</td>\n",
       "      <td>746.0</td>\n",
       "      <td>0.0</td>\n",
       "      <td>20.0</td>\n",
       "      <td>180.0</td>\n",
       "      <td>41.14</td>\n",
       "    </tr>\n",
       "    <tr>\n",
       "      <th>2</th>\n",
       "      <td>3</td>\n",
       "      <td>162.0</td>\n",
       "      <td>148.0</td>\n",
       "      <td>191.0</td>\n",
       "      <td>1.104938</td>\n",
       "      <td>16.0</td>\n",
       "      <td>840.0</td>\n",
       "      <td>743.0</td>\n",
       "      <td>1.0</td>\n",
       "      <td>20.0</td>\n",
       "      <td>179.0</td>\n",
       "      <td>41.81</td>\n",
       "    </tr>\n",
       "    <tr>\n",
       "      <th>3</th>\n",
       "      <td>4</td>\n",
       "      <td>162.0</td>\n",
       "      <td>148.0</td>\n",
       "      <td>190.0</td>\n",
       "      <td>1.104938</td>\n",
       "      <td>19.0</td>\n",
       "      <td>838.0</td>\n",
       "      <td>741.0</td>\n",
       "      <td>3.0</td>\n",
       "      <td>21.5</td>\n",
       "      <td>179.0</td>\n",
       "      <td>42.08</td>\n",
       "    </tr>\n",
       "    <tr>\n",
       "      <th>4</th>\n",
       "      <td>5</td>\n",
       "      <td>154.0</td>\n",
       "      <td>112.0</td>\n",
       "      <td>144.0</td>\n",
       "      <td>1.428571</td>\n",
       "      <td>10.0</td>\n",
       "      <td>923.0</td>\n",
       "      <td>658.0</td>\n",
       "      <td>20.0</td>\n",
       "      <td>64.0</td>\n",
       "      <td>220.0</td>\n",
       "      <td>26.82</td>\n",
       "    </tr>\n",
       "  </tbody>\n",
       "</table>\n",
       "</div>"
      ],
      "text/plain": [
       "   No  Cement   Slag  Fly ash  Water/Cement Ratio    SP  Coarse Aggr.  \\\n",
       "0   1   273.0   82.0    105.0            0.769231   9.0         904.0   \n",
       "1   2   163.0  149.0    191.0            1.104294  12.0         843.0   \n",
       "2   3   162.0  148.0    191.0            1.104938  16.0         840.0   \n",
       "3   4   162.0  148.0    190.0            1.104938  19.0         838.0   \n",
       "4   5   154.0  112.0    144.0            1.428571  10.0         923.0   \n",
       "\n",
       "   Fine Aggr.  SLUMP(cm)  FLOW(cm)  Water  Compressive Strength (28-day)(Mpa)  \n",
       "0       680.0       23.0      62.0  210.0                               34.99  \n",
       "1       746.0        0.0      20.0  180.0                               41.14  \n",
       "2       743.0        1.0      20.0  179.0                               41.81  \n",
       "3       741.0        3.0      21.5  179.0                               42.08  \n",
       "4       658.0       20.0      64.0  220.0                               26.82  "
      ]
     },
     "execution_count": 2,
     "metadata": {},
     "output_type": "execute_result"
    }
   ],
   "source": [
    "import torch\n",
    "import sklearn\n",
    "import numpy as np\n",
    "import pandas as pd\n",
    "from torch import nn\n",
    "import sklearn.datasets\n",
    "import matplotlib.pyplot as plt\n",
    "import sklearn.linear_model\n",
    "import torch.functional as F\n",
    "\n",
    "# In diesem Package ist das Neuronale Netz, Training, Test und Informed Loss Funktionen ausgelagert.\n",
    "import ConcreteNeuralNetwork_big as ConcreteNeuralNetwork\n",
    "\n",
    "# import dataset\n",
    "from sklearn.model_selection import train_test_split\n",
    "#data = pd.read_excel(\"/home/hoschangn/Schreibtisch/WiSe 2021/AutoML/Concrete_Data.xls\")\n",
    "data = pd.read_csv(\"slump_test.csv\")\n",
    "w_c_ratio = data.iloc[:, 4].values/data.iloc[:, 1].values\n",
    "data['Water/Cement Ratio'] = w_c_ratio\n",
    "cols = data.columns.tolist()\n",
    "cols[-1], cols[-2] = cols[-2], cols[-1]\n",
    "cols[-2], cols[4] = cols[4], cols[-2]\n",
    "data = data[cols]\n",
    "X = torch.FloatTensor(data.iloc[:, 1:11].values)\n",
    "y = torch.FloatTensor(data.iloc[:, 11].values)\n",
    "\n",
    "means = X.mean(dim=0, keepdim=True)\n",
    "stds = X.std(dim=0, keepdim=True)\n",
    "X = (X - means) / stds\n",
    "\n",
    "X_train, X_test, y_train, y_test = train_test_split(X, y, train_size=0.76, random_state=1)\n",
    "print('Average: {}, Standard Deviation: {}'.format(means, stds))\n",
    "\n",
    "data[cols].head()"
   ]
  },
  {
   "cell_type": "markdown",
   "metadata": {},
   "source": [
    "## Neural Network"
   ]
  },
  {
   "cell_type": "code",
   "execution_count": 3,
   "metadata": {},
   "outputs": [
    {
     "ename": "RuntimeError",
     "evalue": "mat1 and mat2 shapes cannot be multiplied (78x10 and 9x9)",
     "output_type": "error",
     "traceback": [
      "\u001b[0;31m---------------------------------------------------------------------------\u001b[0m",
      "\u001b[0;31mRuntimeError\u001b[0m                              Traceback (most recent call last)",
      "\u001b[1;32m/home/hoschangn/Schreibtisch/WiSe 2021/AutoML/IML_August_Concrete_Slump.ipynb Zelle 4\u001b[0m in \u001b[0;36m<cell line: 2>\u001b[0;34m()\u001b[0m\n\u001b[1;32m      <a href='vscode-notebook-cell:/home/hoschangn/Schreibtisch/WiSe%202021/AutoML/IML_August_Concrete_Slump.ipynb#ch0000002?line=0'>1</a>\u001b[0m model \u001b[39m=\u001b[39m ConcreteNeuralNetwork\u001b[39m.\u001b[39mConcreteNN()\n\u001b[0;32m----> <a href='vscode-notebook-cell:/home/hoschangn/Schreibtisch/WiSe%202021/AutoML/IML_August_Concrete_Slump.ipynb#ch0000002?line=1'>2</a>\u001b[0m loss_over_time, test_loss_over_time \u001b[39m=\u001b[39m ConcreteNeuralNetwork\u001b[39m.\u001b[39;49mtrain(model, X_train, y_train, X_test, y_test)\n\u001b[1;32m      <a href='vscode-notebook-cell:/home/hoschangn/Schreibtisch/WiSe%202021/AutoML/IML_August_Concrete_Slump.ipynb#ch0000002?line=3'>4</a>\u001b[0m plt\u001b[39m.\u001b[39mfigure()\n\u001b[1;32m      <a href='vscode-notebook-cell:/home/hoschangn/Schreibtisch/WiSe%202021/AutoML/IML_August_Concrete_Slump.ipynb#ch0000002?line=4'>5</a>\u001b[0m plt\u001b[39m.\u001b[39mplot(loss_over_time)\n",
      "File \u001b[0;32m~/Schreibtisch/WiSe 2021/AutoML/ConcreteNeuralNetwork_big.py:49\u001b[0m, in \u001b[0;36mtrain\u001b[0;34m(model, X_train, y_train, X_test, y_test)\u001b[0m\n\u001b[1;32m     47\u001b[0m model\u001b[39m.\u001b[39mtrain()\n\u001b[1;32m     48\u001b[0m optimizer\u001b[39m.\u001b[39mzero_grad()\n\u001b[0;32m---> 49\u001b[0m output \u001b[39m=\u001b[39m model(X_train)\n\u001b[1;32m     50\u001b[0m target \u001b[39m=\u001b[39m y_train\u001b[39m.\u001b[39munsqueeze(\u001b[39m1\u001b[39m)\n\u001b[1;32m     51\u001b[0m loss \u001b[39m=\u001b[39m criterion(output, target)\n",
      "File \u001b[0;32m~/anaconda3/envs/AutoML/lib/python3.8/site-packages/torch/nn/modules/module.py:1130\u001b[0m, in \u001b[0;36mModule._call_impl\u001b[0;34m(self, *input, **kwargs)\u001b[0m\n\u001b[1;32m   1126\u001b[0m \u001b[39m# If we don't have any hooks, we want to skip the rest of the logic in\u001b[39;00m\n\u001b[1;32m   1127\u001b[0m \u001b[39m# this function, and just call forward.\u001b[39;00m\n\u001b[1;32m   1128\u001b[0m \u001b[39mif\u001b[39;00m \u001b[39mnot\u001b[39;00m (\u001b[39mself\u001b[39m\u001b[39m.\u001b[39m_backward_hooks \u001b[39mor\u001b[39;00m \u001b[39mself\u001b[39m\u001b[39m.\u001b[39m_forward_hooks \u001b[39mor\u001b[39;00m \u001b[39mself\u001b[39m\u001b[39m.\u001b[39m_forward_pre_hooks \u001b[39mor\u001b[39;00m _global_backward_hooks\n\u001b[1;32m   1129\u001b[0m         \u001b[39mor\u001b[39;00m _global_forward_hooks \u001b[39mor\u001b[39;00m _global_forward_pre_hooks):\n\u001b[0;32m-> 1130\u001b[0m     \u001b[39mreturn\u001b[39;00m forward_call(\u001b[39m*\u001b[39;49m\u001b[39minput\u001b[39;49m, \u001b[39m*\u001b[39;49m\u001b[39m*\u001b[39;49mkwargs)\n\u001b[1;32m   1131\u001b[0m \u001b[39m# Do not call functions when jit is used\u001b[39;00m\n\u001b[1;32m   1132\u001b[0m full_backward_hooks, non_full_backward_hooks \u001b[39m=\u001b[39m [], []\n",
      "File \u001b[0;32m~/Schreibtisch/WiSe 2021/AutoML/ConcreteNeuralNetwork_big.py:20\u001b[0m, in \u001b[0;36mConcreteNN.forward\u001b[0;34m(self, x)\u001b[0m\n\u001b[1;32m     19\u001b[0m \u001b[39mdef\u001b[39;00m \u001b[39mforward\u001b[39m(\u001b[39mself\u001b[39m, x):\n\u001b[0;32m---> 20\u001b[0m   x \u001b[39m=\u001b[39m \u001b[39mself\u001b[39;49m\u001b[39m.\u001b[39;49minput_layer(x)\n\u001b[1;32m     21\u001b[0m   x \u001b[39m=\u001b[39m \u001b[39mself\u001b[39m\u001b[39m.\u001b[39mactivation(x)\n\u001b[1;32m     22\u001b[0m   x \u001b[39m=\u001b[39m \u001b[39mself\u001b[39m\u001b[39m.\u001b[39mhidden_layer(x)\n",
      "File \u001b[0;32m~/anaconda3/envs/AutoML/lib/python3.8/site-packages/torch/nn/modules/module.py:1130\u001b[0m, in \u001b[0;36mModule._call_impl\u001b[0;34m(self, *input, **kwargs)\u001b[0m\n\u001b[1;32m   1126\u001b[0m \u001b[39m# If we don't have any hooks, we want to skip the rest of the logic in\u001b[39;00m\n\u001b[1;32m   1127\u001b[0m \u001b[39m# this function, and just call forward.\u001b[39;00m\n\u001b[1;32m   1128\u001b[0m \u001b[39mif\u001b[39;00m \u001b[39mnot\u001b[39;00m (\u001b[39mself\u001b[39m\u001b[39m.\u001b[39m_backward_hooks \u001b[39mor\u001b[39;00m \u001b[39mself\u001b[39m\u001b[39m.\u001b[39m_forward_hooks \u001b[39mor\u001b[39;00m \u001b[39mself\u001b[39m\u001b[39m.\u001b[39m_forward_pre_hooks \u001b[39mor\u001b[39;00m _global_backward_hooks\n\u001b[1;32m   1129\u001b[0m         \u001b[39mor\u001b[39;00m _global_forward_hooks \u001b[39mor\u001b[39;00m _global_forward_pre_hooks):\n\u001b[0;32m-> 1130\u001b[0m     \u001b[39mreturn\u001b[39;00m forward_call(\u001b[39m*\u001b[39;49m\u001b[39minput\u001b[39;49m, \u001b[39m*\u001b[39;49m\u001b[39m*\u001b[39;49mkwargs)\n\u001b[1;32m   1131\u001b[0m \u001b[39m# Do not call functions when jit is used\u001b[39;00m\n\u001b[1;32m   1132\u001b[0m full_backward_hooks, non_full_backward_hooks \u001b[39m=\u001b[39m [], []\n",
      "File \u001b[0;32m~/anaconda3/envs/AutoML/lib/python3.8/site-packages/torch/nn/modules/linear.py:114\u001b[0m, in \u001b[0;36mLinear.forward\u001b[0;34m(self, input)\u001b[0m\n\u001b[1;32m    113\u001b[0m \u001b[39mdef\u001b[39;00m \u001b[39mforward\u001b[39m(\u001b[39mself\u001b[39m, \u001b[39minput\u001b[39m: Tensor) \u001b[39m-\u001b[39m\u001b[39m>\u001b[39m Tensor:\n\u001b[0;32m--> 114\u001b[0m     \u001b[39mreturn\u001b[39;00m F\u001b[39m.\u001b[39;49mlinear(\u001b[39minput\u001b[39;49m, \u001b[39mself\u001b[39;49m\u001b[39m.\u001b[39;49mweight, \u001b[39mself\u001b[39;49m\u001b[39m.\u001b[39;49mbias)\n",
      "\u001b[0;31mRuntimeError\u001b[0m: mat1 and mat2 shapes cannot be multiplied (78x10 and 9x9)"
     ]
    }
   ],
   "source": [
    "model = ConcreteNeuralNetwork.ConcreteNN()\n",
    "loss_over_time, test_loss_over_time = ConcreteNeuralNetwork.train(model, X_train, y_train, X_test, y_test)\n",
    "\n",
    "plt.figure()\n",
    "plt.plot(loss_over_time)\n",
    "plt.plot(test_loss_over_time)\n",
    "\n",
    "test_r2, test_rmse = ConcreteNeuralNetwork.eval_model(model, X_test, y_test)\n",
    "train_r2, train_rmse = ConcreteNeuralNetwork.eval_model(model, X_train, y_train)\n",
    "\n",
    "print('Train R2: {}, Train RMSE: {}'.format(train_r2, train_rmse))\n",
    "print('Test R2: {}, Test RMSE: {}'.format(test_r2, test_rmse))"
   ]
  },
  {
   "cell_type": "code",
   "execution_count": 3,
   "metadata": {},
   "outputs": [
    {
     "name": "stdout",
     "output_type": "stream",
     "text": [
      "Train R2: 0.8957324250730899, Train RMSE: 5.3570826053619385\n",
      "Test R2: 0.6613243424368352, Test RMSE: 7.737171936035156\n"
     ]
    },
    {
     "data": {
      "text/plain": [
       "<ErrorbarContainer object of 3 artists>"
      ]
     },
     "execution_count": 3,
     "metadata": {},
     "output_type": "execute_result"
    },
    {
     "data": {
      "image/png": "[encoded data removed]",
      "text/plain": [
       "<Figure size 432x288 with 1 Axes>"
      ]
     },
     "metadata": {
      "needs_background": "light"
     },
     "output_type": "display_data"
    },
    {
     "data": {
      "image/png": "[encoded data removed]",
      "text/plain": [
       "<Figure size 432x288 with 1 Axes>"
      ]
     },
     "metadata": {
      "needs_background": "light"
     },
     "output_type": "display_data"
    }
   ],
   "source": [
    "# 10-Fold Cross Validation\n",
    "test_r2_list = []\n",
    "test_rmse_list = []\n",
    "train_r2_list = []\n",
    "train_rmse_list = []\n",
    "K = 10\n",
    "import sklearn.model_selection\n",
    "skf = sklearn.model_selection.KFold(n_splits=K)\n",
    "skf.get_n_splits(X, y)\n",
    "\n",
    "for train_index, test_index in skf.split(X, y):\n",
    "    X_train, X_test = X[train_index], X[test_index]\n",
    "    y_train, y_test = y[train_index], y[test_index]\n",
    "    X_train = torch.FloatTensor(X_train)\n",
    "    X_test = torch.FloatTensor(X_test)\n",
    "    y_train = torch.FloatTensor(y_train)\n",
    "    y_test = torch.FloatTensor(y_test)\n",
    "\n",
    "    model = ConcreteNeuralNetwork.ConcreteNN()\n",
    "    ConcreteNeuralNetwork.train(model, X_train, y_train, X_test, y_test)\n",
    "    \n",
    "    test_r2, test_rmse = ConcreteNeuralNetwork.eval_model(model, X_test, y_test)\n",
    "    train_r2, train_rmse = ConcreteNeuralNetwork.eval_model(model, X_train, y_train)\n",
    "\n",
    "    test_r2_list.append(test_r2)\n",
    "    test_rmse_list.append(test_rmse)\n",
    "    train_r2_list.append(train_r2)\n",
    "    train_rmse_list.append(train_rmse)\n",
    "\n",
    "print('Train R2: {}, Train RMSE: {}'.format(sum(train_r2_list)/K, sum(train_rmse_list)/K))\n",
    "print('Test R2: {}, Test RMSE: {}'.format(sum(test_r2_list)/K, sum(test_rmse_list)/K))\n",
    "\n",
    "train_r2_mean = torch.mean(torch.FloatTensor(train_r2_list)).item()\n",
    "train_r2_std = torch.std(torch.FloatTensor(train_r2_list)).item()\n",
    "train_rmse_mean = torch.mean(torch.FloatTensor(train_rmse_list)).item()\n",
    "train_rmse_std = torch.std(torch.FloatTensor(train_rmse_list)).item()\n",
    "test_r2_mean = torch.mean(torch.FloatTensor(test_r2_list)).item()\n",
    "test_r2_std = torch.std(torch.FloatTensor(test_r2_list)).item()\n",
    "test_rmse_mean = torch.mean(torch.FloatTensor(test_rmse_list)).item()\n",
    "test_rmse_std = torch.std(torch.FloatTensor(test_rmse_list)).item()\n",
    "\n",
    "r2_names = ['Train R2', 'Test R2']\n",
    "rmse_names = ['Train RMSE', 'Test RMSE']\n",
    "plt.figure()\n",
    "plt.errorbar(r2_names, [train_r2_mean, test_r2_mean], [train_r2_std, test_r2_std], linestyle='None', marker='o')\n",
    "plt.figure()\n",
    "plt.errorbar(rmse_names, [train_rmse_mean, test_rmse_mean], [train_rmse_std, test_rmse_std], linestyle='None', marker='o')\n"
   ]
  },
  {
   "cell_type": "markdown",
   "metadata": {},
   "source": [
    "# Informed Machine Learning: Custom Loss Function"
   ]
  },
  {
   "cell_type": "markdown",
   "metadata": {},
   "source": [
    "## Plot linear relationship"
   ]
  },
  {
   "cell_type": "code",
   "execution_count": 4,
   "metadata": {},
   "outputs": [
    {
     "data": {
      "text/html": [
       "<div>\n",
       "<style scoped>\n",
       "    .dataframe tbody tr th:only-of-type {\n",
       "        vertical-align: middle;\n",
       "    }\n",
       "\n",
       "    .dataframe tbody tr th {\n",
       "        vertical-align: top;\n",
       "    }\n",
       "\n",
       "    .dataframe thead th {\n",
       "        text-align: right;\n",
       "    }\n",
       "</style>\n",
       "<table border=\"1\" class=\"dataframe\">\n",
       "  <thead>\n",
       "    <tr style=\"text-align: right;\">\n",
       "      <th></th>\n",
       "      <th>Cement (component 1)(kg in a m^3 mixture)</th>\n",
       "      <th>Blast Furnace Slag (component 2)(kg in a m^3 mixture)</th>\n",
       "      <th>Fly Ash (component 3)(kg in a m^3 mixture)</th>\n",
       "      <th>Water  (component 4)(kg in a m^3 mixture)</th>\n",
       "      <th>Water/Cement Ratio</th>\n",
       "      <th>Coarse Aggregate  (component 6)(kg in a m^3 mixture)</th>\n",
       "      <th>Fine Aggregate (component 7)(kg in a m^3 mixture)</th>\n",
       "      <th>Age (day)</th>\n",
       "      <th>Superplasticizer (component 5)(kg in a m^3 mixture)</th>\n",
       "      <th>Concrete compressive strength(MPa, megapascals)</th>\n",
       "    </tr>\n",
       "  </thead>\n",
       "  <tbody>\n",
       "    <tr>\n",
       "      <th>0</th>\n",
       "      <td>540.0</td>\n",
       "      <td>0.0</td>\n",
       "      <td>0.0</td>\n",
       "      <td>162.0</td>\n",
       "      <td>0.300000</td>\n",
       "      <td>1040.0</td>\n",
       "      <td>676.0</td>\n",
       "      <td>28</td>\n",
       "      <td>2.5</td>\n",
       "      <td>79.986111</td>\n",
       "    </tr>\n",
       "    <tr>\n",
       "      <th>1</th>\n",
       "      <td>540.0</td>\n",
       "      <td>0.0</td>\n",
       "      <td>0.0</td>\n",
       "      <td>162.0</td>\n",
       "      <td>0.300000</td>\n",
       "      <td>1055.0</td>\n",
       "      <td>676.0</td>\n",
       "      <td>28</td>\n",
       "      <td>2.5</td>\n",
       "      <td>61.887366</td>\n",
       "    </tr>\n",
       "    <tr>\n",
       "      <th>2</th>\n",
       "      <td>332.5</td>\n",
       "      <td>142.5</td>\n",
       "      <td>0.0</td>\n",
       "      <td>228.0</td>\n",
       "      <td>0.685714</td>\n",
       "      <td>932.0</td>\n",
       "      <td>594.0</td>\n",
       "      <td>270</td>\n",
       "      <td>0.0</td>\n",
       "      <td>40.269535</td>\n",
       "    </tr>\n",
       "    <tr>\n",
       "      <th>3</th>\n",
       "      <td>332.5</td>\n",
       "      <td>142.5</td>\n",
       "      <td>0.0</td>\n",
       "      <td>228.0</td>\n",
       "      <td>0.685714</td>\n",
       "      <td>932.0</td>\n",
       "      <td>594.0</td>\n",
       "      <td>365</td>\n",
       "      <td>0.0</td>\n",
       "      <td>41.052780</td>\n",
       "    </tr>\n",
       "    <tr>\n",
       "      <th>4</th>\n",
       "      <td>198.6</td>\n",
       "      <td>132.4</td>\n",
       "      <td>0.0</td>\n",
       "      <td>192.0</td>\n",
       "      <td>0.966767</td>\n",
       "      <td>978.4</td>\n",
       "      <td>825.5</td>\n",
       "      <td>360</td>\n",
       "      <td>0.0</td>\n",
       "      <td>44.296075</td>\n",
       "    </tr>\n",
       "  </tbody>\n",
       "</table>\n",
       "</div>"
      ],
      "text/plain": [
       "   Cement (component 1)(kg in a m^3 mixture)  \\\n",
       "0                                      540.0   \n",
       "1                                      540.0   \n",
       "2                                      332.5   \n",
       "3                                      332.5   \n",
       "4                                      198.6   \n",
       "\n",
       "   Blast Furnace Slag (component 2)(kg in a m^3 mixture)  \\\n",
       "0                                                0.0       \n",
       "1                                                0.0       \n",
       "2                                              142.5       \n",
       "3                                              142.5       \n",
       "4                                              132.4       \n",
       "\n",
       "   Fly Ash (component 3)(kg in a m^3 mixture)  \\\n",
       "0                                         0.0   \n",
       "1                                         0.0   \n",
       "2                                         0.0   \n",
       "3                                         0.0   \n",
       "4                                         0.0   \n",
       "\n",
       "   Water  (component 4)(kg in a m^3 mixture)  Water/Cement Ratio  \\\n",
       "0                                      162.0            0.300000   \n",
       "1                                      162.0            0.300000   \n",
       "2                                      228.0            0.685714   \n",
       "3                                      228.0            0.685714   \n",
       "4                                      192.0            0.966767   \n",
       "\n",
       "   Coarse Aggregate  (component 6)(kg in a m^3 mixture)  \\\n",
       "0                                             1040.0      \n",
       "1                                             1055.0      \n",
       "2                                              932.0      \n",
       "3                                              932.0      \n",
       "4                                              978.4      \n",
       "\n",
       "   Fine Aggregate (component 7)(kg in a m^3 mixture)  Age (day)  \\\n",
       "0                                              676.0         28   \n",
       "1                                              676.0         28   \n",
       "2                                              594.0        270   \n",
       "3                                              594.0        365   \n",
       "4                                              825.5        360   \n",
       "\n",
       "   Superplasticizer (component 5)(kg in a m^3 mixture)  \\\n",
       "0                                                2.5     \n",
       "1                                                2.5     \n",
       "2                                                0.0     \n",
       "3                                                0.0     \n",
       "4                                                0.0     \n",
       "\n",
       "   Concrete compressive strength(MPa, megapascals)   \n",
       "0                                         79.986111  \n",
       "1                                         61.887366  \n",
       "2                                         40.269535  \n",
       "3                                         41.052780  \n",
       "4                                         44.296075  "
      ]
     },
     "execution_count": 4,
     "metadata": {},
     "output_type": "execute_result"
    }
   ],
   "source": [
    "data.head()"
   ]
  },
  {
   "cell_type": "code",
   "execution_count": 5,
   "metadata": {},
   "outputs": [
    {
     "ename": "ValueError",
     "evalue": "Input X contains NaN.\nLinearRegression does not accept missing values encoded as NaN natively. For supervised learning, you might want to consider sklearn.ensemble.HistGradientBoostingClassifier and Regressor which accept missing values encoded as NaNs natively. Alternatively, it is possible to preprocess the data, for instance by using an imputer transformer in a pipeline or drop samples with missing values. See https://scikit-learn.org/stable/modules/impute.html You can find a list of all estimators that handle NaN values at the following page: https://scikit-learn.org/stable/modules/impute.html#estimators-that-handle-nan-values",
     "output_type": "error",
     "traceback": [
      "\u001b[0;31m---------------------------------------------------------------------------\u001b[0m",
      "\u001b[0;31mValueError\u001b[0m                                Traceback (most recent call last)",
      "\u001b[1;32m/home/hoschangn/Schreibtisch/WiSe 2021/AutoML/Concrete_Slump bigdataset_v2.ipynb Zelle 8\u001b[0m in \u001b[0;36m<cell line: 5>\u001b[0;34m()\u001b[0m\n\u001b[1;32m      <a href='vscode-notebook-cell:/home/hoschangn/Schreibtisch/WiSe%202021/AutoML/Concrete_Slump%20bigdataset_v2.ipynb#ch0000007?line=2'>3</a>\u001b[0m \u001b[39m#lr_input = torch.log10(torch.hstack((torch.ones((X.shape[0], 1)), X[:, [3, 0, 5, 6]])))\u001b[39;00m\n\u001b[1;32m      <a href='vscode-notebook-cell:/home/hoschangn/Schreibtisch/WiSe%202021/AutoML/Concrete_Slump%20bigdataset_v2.ipynb#ch0000007?line=3'>4</a>\u001b[0m ln_y \u001b[39m=\u001b[39m torch\u001b[39m.\u001b[39mlog10(y)\n\u001b[0;32m----> <a href='vscode-notebook-cell:/home/hoschangn/Schreibtisch/WiSe%202021/AutoML/Concrete_Slump%20bigdataset_v2.ipynb#ch0000007?line=4'>5</a>\u001b[0m LR\u001b[39m.\u001b[39;49mfit(lr_input, ln_y)\n\u001b[1;32m      <a href='vscode-notebook-cell:/home/hoschangn/Schreibtisch/WiSe%202021/AutoML/Concrete_Slump%20bigdataset_v2.ipynb#ch0000007?line=5'>6</a>\u001b[0m LR\u001b[39m.\u001b[39mcoef_\n\u001b[1;32m      <a href='vscode-notebook-cell:/home/hoschangn/Schreibtisch/WiSe%202021/AutoML/Concrete_Slump%20bigdataset_v2.ipynb#ch0000007?line=6'>7</a>\u001b[0m y_pred \u001b[39m=\u001b[39m \u001b[39m10\u001b[39m \u001b[39m*\u001b[39m\u001b[39m*\u001b[39m LR\u001b[39m.\u001b[39mpredict(lr_input)\n",
      "File \u001b[0;32m~/anaconda3/envs/AutoML/lib/python3.8/site-packages/sklearn/linear_model/_base.py:684\u001b[0m, in \u001b[0;36mLinearRegression.fit\u001b[0;34m(self, X, y, sample_weight)\u001b[0m\n\u001b[1;32m    680\u001b[0m n_jobs_ \u001b[39m=\u001b[39m \u001b[39mself\u001b[39m\u001b[39m.\u001b[39mn_jobs\n\u001b[1;32m    682\u001b[0m accept_sparse \u001b[39m=\u001b[39m \u001b[39mFalse\u001b[39;00m \u001b[39mif\u001b[39;00m \u001b[39mself\u001b[39m\u001b[39m.\u001b[39mpositive \u001b[39melse\u001b[39;00m [\u001b[39m\"\u001b[39m\u001b[39mcsr\u001b[39m\u001b[39m\"\u001b[39m, \u001b[39m\"\u001b[39m\u001b[39mcsc\u001b[39m\u001b[39m\"\u001b[39m, \u001b[39m\"\u001b[39m\u001b[39mcoo\u001b[39m\u001b[39m\"\u001b[39m]\n\u001b[0;32m--> 684\u001b[0m X, y \u001b[39m=\u001b[39m \u001b[39mself\u001b[39;49m\u001b[39m.\u001b[39;49m_validate_data(\n\u001b[1;32m    685\u001b[0m     X, y, accept_sparse\u001b[39m=\u001b[39;49maccept_sparse, y_numeric\u001b[39m=\u001b[39;49m\u001b[39mTrue\u001b[39;49;00m, multi_output\u001b[39m=\u001b[39;49m\u001b[39mTrue\u001b[39;49;00m\n\u001b[1;32m    686\u001b[0m )\n\u001b[1;32m    688\u001b[0m sample_weight \u001b[39m=\u001b[39m _check_sample_weight(\n\u001b[1;32m    689\u001b[0m     sample_weight, X, dtype\u001b[39m=\u001b[39mX\u001b[39m.\u001b[39mdtype, only_non_negative\u001b[39m=\u001b[39m\u001b[39mTrue\u001b[39;00m\n\u001b[1;32m    690\u001b[0m )\n\u001b[1;32m    692\u001b[0m X, y, X_offset, y_offset, X_scale \u001b[39m=\u001b[39m _preprocess_data(\n\u001b[1;32m    693\u001b[0m     X,\n\u001b[1;32m    694\u001b[0m     y,\n\u001b[0;32m   (...)\u001b[0m\n\u001b[1;32m    698\u001b[0m     sample_weight\u001b[39m=\u001b[39msample_weight,\n\u001b[1;32m    699\u001b[0m )\n",
      "File \u001b[0;32m~/anaconda3/envs/AutoML/lib/python3.8/site-packages/sklearn/base.py:596\u001b[0m, in \u001b[0;36mBaseEstimator._validate_data\u001b[0;34m(self, X, y, reset, validate_separately, **check_params)\u001b[0m\n\u001b[1;32m    594\u001b[0m         y \u001b[39m=\u001b[39m check_array(y, input_name\u001b[39m=\u001b[39m\u001b[39m\"\u001b[39m\u001b[39my\u001b[39m\u001b[39m\"\u001b[39m, \u001b[39m*\u001b[39m\u001b[39m*\u001b[39mcheck_y_params)\n\u001b[1;32m    595\u001b[0m     \u001b[39melse\u001b[39;00m:\n\u001b[0;32m--> 596\u001b[0m         X, y \u001b[39m=\u001b[39m check_X_y(X, y, \u001b[39m*\u001b[39;49m\u001b[39m*\u001b[39;49mcheck_params)\n\u001b[1;32m    597\u001b[0m     out \u001b[39m=\u001b[39m X, y\n\u001b[1;32m    599\u001b[0m \u001b[39mif\u001b[39;00m \u001b[39mnot\u001b[39;00m no_val_X \u001b[39mand\u001b[39;00m check_params\u001b[39m.\u001b[39mget(\u001b[39m\"\u001b[39m\u001b[39mensure_2d\u001b[39m\u001b[39m\"\u001b[39m, \u001b[39mTrue\u001b[39;00m):\n",
      "File \u001b[0;32m~/anaconda3/envs/AutoML/lib/python3.8/site-packages/sklearn/utils/validation.py:1074\u001b[0m, in \u001b[0;36mcheck_X_y\u001b[0;34m(X, y, accept_sparse, accept_large_sparse, dtype, order, copy, force_all_finite, ensure_2d, allow_nd, multi_output, ensure_min_samples, ensure_min_features, y_numeric, estimator)\u001b[0m\n\u001b[1;32m   1069\u001b[0m         estimator_name \u001b[39m=\u001b[39m _check_estimator_name(estimator)\n\u001b[1;32m   1070\u001b[0m     \u001b[39mraise\u001b[39;00m \u001b[39mValueError\u001b[39;00m(\n\u001b[1;32m   1071\u001b[0m         \u001b[39mf\u001b[39m\u001b[39m\"\u001b[39m\u001b[39m{\u001b[39;00mestimator_name\u001b[39m}\u001b[39;00m\u001b[39m requires y to be passed, but the target y is None\u001b[39m\u001b[39m\"\u001b[39m\n\u001b[1;32m   1072\u001b[0m     )\n\u001b[0;32m-> 1074\u001b[0m X \u001b[39m=\u001b[39m check_array(\n\u001b[1;32m   1075\u001b[0m     X,\n\u001b[1;32m   1076\u001b[0m     accept_sparse\u001b[39m=\u001b[39;49maccept_sparse,\n\u001b[1;32m   1077\u001b[0m     accept_large_sparse\u001b[39m=\u001b[39;49maccept_large_sparse,\n\u001b[1;32m   1078\u001b[0m     dtype\u001b[39m=\u001b[39;49mdtype,\n\u001b[1;32m   1079\u001b[0m     order\u001b[39m=\u001b[39;49morder,\n\u001b[1;32m   1080\u001b[0m     copy\u001b[39m=\u001b[39;49mcopy,\n\u001b[1;32m   1081\u001b[0m     force_all_finite\u001b[39m=\u001b[39;49mforce_all_finite,\n\u001b[1;32m   1082\u001b[0m     ensure_2d\u001b[39m=\u001b[39;49mensure_2d,\n\u001b[1;32m   1083\u001b[0m     allow_nd\u001b[39m=\u001b[39;49mallow_nd,\n\u001b[1;32m   1084\u001b[0m     ensure_min_samples\u001b[39m=\u001b[39;49mensure_min_samples,\n\u001b[1;32m   1085\u001b[0m     ensure_min_features\u001b[39m=\u001b[39;49mensure_min_features,\n\u001b[1;32m   1086\u001b[0m     estimator\u001b[39m=\u001b[39;49mestimator,\n\u001b[1;32m   1087\u001b[0m     input_name\u001b[39m=\u001b[39;49m\u001b[39m\"\u001b[39;49m\u001b[39mX\u001b[39;49m\u001b[39m\"\u001b[39;49m,\n\u001b[1;32m   1088\u001b[0m )\n\u001b[1;32m   1090\u001b[0m y \u001b[39m=\u001b[39m _check_y(y, multi_output\u001b[39m=\u001b[39mmulti_output, y_numeric\u001b[39m=\u001b[39my_numeric, estimator\u001b[39m=\u001b[39mestimator)\n\u001b[1;32m   1092\u001b[0m check_consistent_length(X, y)\n",
      "File \u001b[0;32m~/anaconda3/envs/AutoML/lib/python3.8/site-packages/sklearn/utils/validation.py:899\u001b[0m, in \u001b[0;36mcheck_array\u001b[0;34m(array, accept_sparse, accept_large_sparse, dtype, order, copy, force_all_finite, ensure_2d, allow_nd, ensure_min_samples, ensure_min_features, estimator, input_name)\u001b[0m\n\u001b[1;32m    893\u001b[0m         \u001b[39mraise\u001b[39;00m \u001b[39mValueError\u001b[39;00m(\n\u001b[1;32m    894\u001b[0m             \u001b[39m\"\u001b[39m\u001b[39mFound array with dim \u001b[39m\u001b[39m%d\u001b[39;00m\u001b[39m. \u001b[39m\u001b[39m%s\u001b[39;00m\u001b[39m expected <= 2.\u001b[39m\u001b[39m\"\u001b[39m\n\u001b[1;32m    895\u001b[0m             \u001b[39m%\u001b[39m (array\u001b[39m.\u001b[39mndim, estimator_name)\n\u001b[1;32m    896\u001b[0m         )\n\u001b[1;32m    898\u001b[0m     \u001b[39mif\u001b[39;00m force_all_finite:\n\u001b[0;32m--> 899\u001b[0m         _assert_all_finite(\n\u001b[1;32m    900\u001b[0m             array,\n\u001b[1;32m    901\u001b[0m             input_name\u001b[39m=\u001b[39;49minput_name,\n\u001b[1;32m    902\u001b[0m             estimator_name\u001b[39m=\u001b[39;49mestimator_name,\n\u001b[1;32m    903\u001b[0m             allow_nan\u001b[39m=\u001b[39;49mforce_all_finite \u001b[39m==\u001b[39;49m \u001b[39m\"\u001b[39;49m\u001b[39mallow-nan\u001b[39;49m\u001b[39m\"\u001b[39;49m,\n\u001b[1;32m    904\u001b[0m         )\n\u001b[1;32m    906\u001b[0m \u001b[39mif\u001b[39;00m ensure_min_samples \u001b[39m>\u001b[39m \u001b[39m0\u001b[39m:\n\u001b[1;32m    907\u001b[0m     n_samples \u001b[39m=\u001b[39m _num_samples(array)\n",
      "File \u001b[0;32m~/anaconda3/envs/AutoML/lib/python3.8/site-packages/sklearn/utils/validation.py:146\u001b[0m, in \u001b[0;36m_assert_all_finite\u001b[0;34m(X, allow_nan, msg_dtype, estimator_name, input_name)\u001b[0m\n\u001b[1;32m    124\u001b[0m         \u001b[39mif\u001b[39;00m (\n\u001b[1;32m    125\u001b[0m             \u001b[39mnot\u001b[39;00m allow_nan\n\u001b[1;32m    126\u001b[0m             \u001b[39mand\u001b[39;00m estimator_name\n\u001b[0;32m   (...)\u001b[0m\n\u001b[1;32m    130\u001b[0m             \u001b[39m# Improve the error message on how to handle missing values in\u001b[39;00m\n\u001b[1;32m    131\u001b[0m             \u001b[39m# scikit-learn.\u001b[39;00m\n\u001b[1;32m    132\u001b[0m             msg_err \u001b[39m+\u001b[39m\u001b[39m=\u001b[39m (\n\u001b[1;32m    133\u001b[0m                 \u001b[39mf\u001b[39m\u001b[39m\"\u001b[39m\u001b[39m\\n\u001b[39;00m\u001b[39m{\u001b[39;00mestimator_name\u001b[39m}\u001b[39;00m\u001b[39m does not accept missing values\u001b[39m\u001b[39m\"\u001b[39m\n\u001b[1;32m    134\u001b[0m                 \u001b[39m\"\u001b[39m\u001b[39m encoded as NaN natively. For supervised learning, you might want\u001b[39m\u001b[39m\"\u001b[39m\n\u001b[0;32m   (...)\u001b[0m\n\u001b[1;32m    144\u001b[0m                 \u001b[39m\"\u001b[39m\u001b[39m#estimators-that-handle-nan-values\u001b[39m\u001b[39m\"\u001b[39m\n\u001b[1;32m    145\u001b[0m             )\n\u001b[0;32m--> 146\u001b[0m         \u001b[39mraise\u001b[39;00m \u001b[39mValueError\u001b[39;00m(msg_err)\n\u001b[1;32m    148\u001b[0m \u001b[39m# for object dtype data, we only check for NaNs (GH-13254)\u001b[39;00m\n\u001b[1;32m    149\u001b[0m \u001b[39melif\u001b[39;00m X\u001b[39m.\u001b[39mdtype \u001b[39m==\u001b[39m np\u001b[39m.\u001b[39mdtype(\u001b[39m\"\u001b[39m\u001b[39mobject\u001b[39m\u001b[39m\"\u001b[39m) \u001b[39mand\u001b[39;00m \u001b[39mnot\u001b[39;00m allow_nan:\n",
      "\u001b[0;31mValueError\u001b[0m: Input X contains NaN.\nLinearRegression does not accept missing values encoded as NaN natively. For supervised learning, you might want to consider sklearn.ensemble.HistGradientBoostingClassifier and Regressor which accept missing values encoded as NaNs natively. Alternatively, it is possible to preprocess the data, for instance by using an imputer transformer in a pipeline or drop samples with missing values. See https://scikit-learn.org/stable/modules/impute.html You can find a list of all estimators that handle NaN values at the following page: https://scikit-learn.org/stable/modules/impute.html#estimators-that-handle-nan-values"
     ]
    }
   ],
   "source": [
    "LR = sklearn.linear_model.LinearRegression(fit_intercept=False)\n",
    "lr_input = torch.log10(torch.hstack((torch.ones((X.shape[0], 1)), X[:, [4, 0, 5, 6]])))\n",
    "#lr_input = torch.log10(torch.hstack((torch.ones((X.shape[0], 1)), X[:, [3, 0, 5, 6]])))\n",
    "ln_y = torch.log10(y)\n",
    "LR.fit(lr_input, ln_y)\n",
    "LR.coef_\n",
    "y_pred = 10 ** LR.predict(lr_input)\n",
    "print(sklearn.metrics.r2_score(y, y_pred))\n",
    "plt.plot(y)\n",
    "plt.plot(y_pred)"
   ]
  },
  {
   "cell_type": "code",
   "execution_count": 5,
   "metadata": {},
   "outputs": [],
   "source": [
    "def informed_loss(inputs, outputs, targets, lamb):\n",
    "    LR = sklearn.linear_model.LinearRegression(fit_intercept=False)\n",
    "    lr_input = torch.log10(torch.hstack((torch.ones((inputs.shape[0], 1)), inputs[:, [3, 0, 5, 6]])))\n",
    "    ln_y = torch.log10(targets)\n",
    "    LR.fit(lr_input, ln_y)\n",
    "    lr_predictions = torch.FloatTensor(10**LR.predict(lr_input))\n",
    "    mse = nn.MSELoss()\n",
    "    relu = nn.ReLU()\n",
    "    info = torch.sum(outputs - lr_predictions)\n",
    "    \n",
    "    return mse(outputs, targets) + lamb*relu(info)"
   ]
  },
  {
   "cell_type": "code",
   "execution_count": 6,
   "metadata": {},
   "outputs": [],
   "source": [
    "def informed_loss(inputs, outputs, targets, lamb):\n",
    "    LR = sklearn.linear_model.LinearRegression(fit_intercept=False)\n",
    "    lr_input = torch.log10(torch.hstack((torch.ones((inputs.shape[0], 1)), inputs[:, [3, 0, 5, 6]])))\n",
    "    ln_y = torch.log10(targets)\n",
    "    LR.fit(lr_input, ln_y)\n",
    "    lr_predictions = torch.FloatTensor(10**LR.predict(lr_input))\n",
    "    mse = nn.MSELoss()\n",
    "    relu = nn.ReLU()\n",
    "    info = torch.sum(outputs - lr_predictions)\n",
    "    \n",
    "    return mse(outputs, targets) + lamb*mse(outputs, lr_predictions)"
   ]
  },
  {
   "cell_type": "code",
   "execution_count": 8,
   "metadata": {},
   "outputs": [
    {
     "name": "stdout",
     "output_type": "stream",
     "text": [
      "Train R2: 0.9844862769604006, Train RMSE: 0.9599675536155701\n",
      "Test R2: 0.8139402621513492, Test RMSE: 2.3320040583610533\n",
      "Train R2: 0.9750266559266392, Train RMSE: 1.2261218309402466\n",
      "Test R2: 0.8357064815684291, Test RMSE: 2.3770981192588807\n",
      "Train R2: 0.7792588812215119, Train RMSE: 3.6552043199539184\n",
      "Test R2: 0.5676018948932142, Test RMSE: 3.9748034715652465\n"
     ]
    },
    {
     "data": {
      "image/png": "[encoded data removed]",
      "text/plain": [
       "<Figure size 432x288 with 1 Axes>"
      ]
     },
     "metadata": {
      "needs_background": "light"
     },
     "output_type": "display_data"
    },
    {
     "data": {
      "image/png": "[encoded data removed]",
      "text/plain": [
       "<Figure size 432x288 with 1 Axes>"
      ]
     },
     "metadata": {
      "needs_background": "light"
     },
     "output_type": "display_data"
    },
    {
     "data": {
      "image/png": "[encoded data removed]",
      "text/plain": [
       "<Figure size 432x288 with 1 Axes>"
      ]
     },
     "metadata": {
      "needs_background": "light"
     },
     "output_type": "display_data"
    },
    {
     "data": {
      "image/png": "[encoded data removed]",
      "text/plain": [
       "<Figure size 432x288 with 1 Axes>"
      ]
     },
     "metadata": {
      "needs_background": "light"
     },
     "output_type": "display_data"
    },
    {
     "data": {
      "image/png": "[encoded data removed]",
      "text/plain": [
       "<Figure size 432x288 with 1 Axes>"
      ]
     },
     "metadata": {
      "needs_background": "light"
     },
     "output_type": "display_data"
    },
    {
     "data": {
      "image/png": "[encoded data removed]",
      "text/plain": [
       "<Figure size 432x288 with 1 Axes>"
      ]
     },
     "metadata": {
      "needs_background": "light"
     },
     "output_type": "display_data"
    }
   ],
   "source": [
    "# 10-Fold Cross Validation\n",
    "K = 10\n",
    "lambdas = [0.01, 0.1, 1]\n",
    "import sklearn.model_selection\n",
    "skf = sklearn.model_selection.KFold(n_splits=K)\n",
    "skf.get_n_splits(X, y)\n",
    "for lamb in lambdas:\n",
    "    test_r2_list = []\n",
    "    test_rmse_list = []\n",
    "    train_r2_list = []\n",
    "    train_rmse_list = []\n",
    "    for train_index, test_index in skf.split(X, y):\n",
    "        X_train, X_test = X[train_index], X[test_index]\n",
    "        y_train, y_test = y[train_index], y[test_index]\n",
    "        time_data_train = torch.FloatTensor(data.iloc[train_index, 1:11].values)\n",
    "        X_train = torch.FloatTensor(X_train)\n",
    "        X_test = torch.FloatTensor(X_test)\n",
    "        y_train = torch.FloatTensor(y_train)\n",
    "        y_test = torch.FloatTensor(y_test)\n",
    "\n",
    "        model = ConcreteNeuralNetwork.ConcreteNN()\n",
    "        ConcreteNeuralNetwork.train_with_closs(model, informed_loss, lamb, inform_data, X_train, y_train, X_test, y_test)\n",
    "        \n",
    "        test_r2, test_rmse = ConcreteNeuralNetwork.eval_model(model, X_test, y_test)\n",
    "        train_r2, train_rmse = ConcreteNeuralNetwork.eval_model(model, X_train, y_train)\n",
    "\n",
    "        test_r2_list.append(test_r2)\n",
    "        test_rmse_list.append(test_rmse)\n",
    "        train_r2_list.append(train_r2)\n",
    "        train_rmse_list.append(train_rmse)\n",
    "\n",
    "    print('Train R2: {}, Train RMSE: {}'.format(sum(train_r2_list)/K, sum(train_rmse_list)/K))\n",
    "    print('Test R2: {}, Test RMSE: {}'.format(sum(test_r2_list)/K, sum(test_rmse_list)/K))\n",
    "\n",
    "    train_r2_mean = torch.mean(torch.FloatTensor(train_r2_list)).item()\n",
    "    train_r2_std = torch.std(torch.FloatTensor(train_r2_list)).item()\n",
    "    train_rmse_mean = torch.mean(torch.FloatTensor(train_rmse_list)).item()\n",
    "    train_rmse_std = torch.std(torch.FloatTensor(train_rmse_list)).item()\n",
    "    test_r2_mean = torch.mean(torch.FloatTensor(test_r2_list)).item()\n",
    "    test_r2_std = torch.std(torch.FloatTensor(test_r2_list)).item()\n",
    "    test_rmse_mean = torch.mean(torch.FloatTensor(test_rmse_list)).item()\n",
    "    test_rmse_std = torch.std(torch.FloatTensor(test_rmse_list)).item()\n",
    "\n",
    "    r2_names = ['Train R2', 'Test R2']\n",
    "    rmse_names = ['Train RMSE', 'Test RMSE']\n",
    "    plt.figure()\n",
    "    plt.errorbar(r2_names, [train_r2_mean, test_r2_mean], [train_r2_std, test_r2_std], linestyle='None', marker='o')\n",
    "    plt.figure()\n",
    "    plt.errorbar(rmse_names, [train_rmse_mean, test_rmse_mean], [train_rmse_std, test_rmse_std], linestyle='None', marker='o')"
   ]
  },
  {
   "cell_type": "code",
   "execution_count": null,
   "metadata": {},
   "outputs": [],
   "source": []
  }
 ],
 "metadata": {
  "kernelspec": {
   "display_name": "Python 3.8.13 ('AutoML')",
   "language": "python",
   "name": "python3"
  },
  "language_info": {
   "codemirror_mode": {
    "name": "ipython",
    "version": 3
   },
   "file_extension": ".py",
   "mimetype": "text/x-python",
   "name": "python",
   "nbconvert_exporter": "python",
   "pygments_lexer": "ipython3",
   "version": "3.8.13"
  },
  "orig_nbformat": 4,
  "vscode": {
   "interpreter": {
    "hash": "8c987f447b3d8b7fbc1b90bcfc8f9402522a4a53d74324611693e3c189ce101c"
   }
  }
 },
 "nbformat": 4,
 "nbformat_minor": 2
}
