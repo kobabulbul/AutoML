{
 "cells": [
  {
   "cell_type": "code",
   "execution_count": 1,
   "metadata": {},
   "outputs": [
    {
     "name": "stdout",
     "output_type": "stream",
     "text": [
      "Average: tensor([[229.8942,  77.9738, 149.0146, 197.1680,   8.5398, 883.9785, 739.6048,\n",
      "          18.0485,  49.6107]]), Standard Deviation: tensor([[78.8772, 60.4614, 85.4181, 20.2082,  2.8075, 88.3914, 63.3421,  8.7508,\n",
      "         17.5686]])\n"
     ]
    },
    {
     "data": {
      "text/html": [
       "<div>\n",
       "<style scoped>\n",
       "    .dataframe tbody tr th:only-of-type {\n",
       "        vertical-align: middle;\n",
       "    }\n",
       "\n",
       "    .dataframe tbody tr th {\n",
       "        vertical-align: top;\n",
       "    }\n",
       "\n",
       "    .dataframe thead th {\n",
       "        text-align: right;\n",
       "    }\n",
       "</style>\n",
       "<table border=\"1\" class=\"dataframe\">\n",
       "  <thead>\n",
       "    <tr style=\"text-align: right;\">\n",
       "      <th></th>\n",
       "      <th>No</th>\n",
       "      <th>Cement</th>\n",
       "      <th>Slag</th>\n",
       "      <th>Fly ash</th>\n",
       "      <th>Water</th>\n",
       "      <th>SP</th>\n",
       "      <th>Coarse Aggr.</th>\n",
       "      <th>Fine Aggr.</th>\n",
       "      <th>SLUMP(cm)</th>\n",
       "      <th>FLOW(cm)</th>\n",
       "      <th>Compressive Strength (28-day)(Mpa)</th>\n",
       "    </tr>\n",
       "  </thead>\n",
       "  <tbody>\n",
       "    <tr>\n",
       "      <th>0</th>\n",
       "      <td>1</td>\n",
       "      <td>273.0</td>\n",
       "      <td>82.0</td>\n",
       "      <td>105.0</td>\n",
       "      <td>210.0</td>\n",
       "      <td>9.0</td>\n",
       "      <td>904.0</td>\n",
       "      <td>680.0</td>\n",
       "      <td>23.0</td>\n",
       "      <td>62.0</td>\n",
       "      <td>34.99</td>\n",
       "    </tr>\n",
       "    <tr>\n",
       "      <th>1</th>\n",
       "      <td>2</td>\n",
       "      <td>163.0</td>\n",
       "      <td>149.0</td>\n",
       "      <td>191.0</td>\n",
       "      <td>180.0</td>\n",
       "      <td>12.0</td>\n",
       "      <td>843.0</td>\n",
       "      <td>746.0</td>\n",
       "      <td>0.0</td>\n",
       "      <td>20.0</td>\n",
       "      <td>41.14</td>\n",
       "    </tr>\n",
       "    <tr>\n",
       "      <th>2</th>\n",
       "      <td>3</td>\n",
       "      <td>162.0</td>\n",
       "      <td>148.0</td>\n",
       "      <td>191.0</td>\n",
       "      <td>179.0</td>\n",
       "      <td>16.0</td>\n",
       "      <td>840.0</td>\n",
       "      <td>743.0</td>\n",
       "      <td>1.0</td>\n",
       "      <td>20.0</td>\n",
       "      <td>41.81</td>\n",
       "    </tr>\n",
       "    <tr>\n",
       "      <th>3</th>\n",
       "      <td>4</td>\n",
       "      <td>162.0</td>\n",
       "      <td>148.0</td>\n",
       "      <td>190.0</td>\n",
       "      <td>179.0</td>\n",
       "      <td>19.0</td>\n",
       "      <td>838.0</td>\n",
       "      <td>741.0</td>\n",
       "      <td>3.0</td>\n",
       "      <td>21.5</td>\n",
       "      <td>42.08</td>\n",
       "    </tr>\n",
       "    <tr>\n",
       "      <th>4</th>\n",
       "      <td>5</td>\n",
       "      <td>154.0</td>\n",
       "      <td>112.0</td>\n",
       "      <td>144.0</td>\n",
       "      <td>220.0</td>\n",
       "      <td>10.0</td>\n",
       "      <td>923.0</td>\n",
       "      <td>658.0</td>\n",
       "      <td>20.0</td>\n",
       "      <td>64.0</td>\n",
       "      <td>26.82</td>\n",
       "    </tr>\n",
       "  </tbody>\n",
       "</table>\n",
       "</div>"
      ],
      "text/plain": [
       "   No  Cement   Slag  Fly ash  Water    SP  Coarse Aggr.  Fine Aggr.  \\\n",
       "0   1   273.0   82.0    105.0  210.0   9.0         904.0       680.0   \n",
       "1   2   163.0  149.0    191.0  180.0  12.0         843.0       746.0   \n",
       "2   3   162.0  148.0    191.0  179.0  16.0         840.0       743.0   \n",
       "3   4   162.0  148.0    190.0  179.0  19.0         838.0       741.0   \n",
       "4   5   154.0  112.0    144.0  220.0  10.0         923.0       658.0   \n",
       "\n",
       "   SLUMP(cm)  FLOW(cm)  Compressive Strength (28-day)(Mpa)  \n",
       "0       23.0      62.0                               34.99  \n",
       "1        0.0      20.0                               41.14  \n",
       "2        1.0      20.0                               41.81  \n",
       "3        3.0      21.5                               42.08  \n",
       "4       20.0      64.0                               26.82  "
      ]
     },
     "execution_count": 1,
     "metadata": {},
     "output_type": "execute_result"
    }
   ],
   "source": [
    "import torch\n",
    "import sklearn\n",
    "import numpy as np\n",
    "import pandas as pd\n",
    "from torch import nn\n",
    "from torch.utils.data import DataLoader\n",
    "import sklearn.datasets\n",
    "import matplotlib.pyplot as plt\n",
    "import sklearn.linear_model\n",
    "import torch.functional as F\n",
    "\n",
    "# In diesem Package ist das Neuronale Netz, Training, Test und Informed Loss Funktionen ausgelagert.\n",
    "import ConcreteNeuralNetwork\n",
    "\n",
    "# import dataset\n",
    "from sklearn.model_selection import train_test_split\n",
    "data = pd.read_csv(\"slump_test.csv\")\n",
    "X = torch.FloatTensor(data.iloc[:, 1:10].values)\n",
    "y = torch.FloatTensor(data.iloc[:, 10].values)\n",
    "\n",
    "means = X.mean(dim=0, keepdim=True)\n",
    "stds = X.std(dim=0, keepdim=True)\n",
    "X = (X - means) / stds\n",
    "\n",
    "X_train, X_test, y_train, y_test = train_test_split(X, y, train_size=0.76, random_state=1)\n",
    "print('Average: {}, Standard Deviation: {}'.format(means, stds))\n",
    "data.head()"
   ]
  },
  {
   "cell_type": "markdown",
   "metadata": {},
   "source": [
    "# Neural Network"
   ]
  },
  {
   "cell_type": "code",
   "execution_count": 2,
   "metadata": {},
   "outputs": [
    {
     "name": "stdout",
     "output_type": "stream",
     "text": [
      "Train R2: 0.9292399226198987, Train RMSE: 2.0166423320770264\n",
      "Test R2: 0.8412351055465553, Test RMSE: 3.2533504962921143\n"
     ]
    },
    {
     "data": {
      "image/png": "[encoded data removed]",
      "text/plain": [
       "<Figure size 432x288 with 1 Axes>"
      ]
     },
     "metadata": {
      "needs_background": "light"
     },
     "output_type": "display_data"
    }
   ],
   "source": [
    "model = ConcreteNeuralNetwork.ConcreteNN()\n",
    "loss_over_time, test_loss_over_time = ConcreteNeuralNetwork.train(model, X_train, y_train, X_test, y_test)\n",
    "\n",
    "plt.figure()\n",
    "plt.plot(loss_over_time)\n",
    "plt.plot(test_loss_over_time)\n",
    "\n",
    "test_r2, test_rmse = ConcreteNeuralNetwork.eval_model(model, X_test, y_test)\n",
    "train_r2, train_rmse = ConcreteNeuralNetwork.eval_model(model, X_train, y_train)\n",
    "\n",
    "print('Train R2: {}, Train RMSE: {}'.format(train_r2, train_rmse))\n",
    "print('Test R2: {}, Test RMSE: {}'.format(test_r2, test_rmse))"
   ]
  },
  {
   "cell_type": "code",
   "execution_count": 7,
   "metadata": {},
   "outputs": [
    {
     "name": "stdout",
     "output_type": "stream",
     "text": [
      "Train R2: 0.934331993048516, Train RMSE: 1.9413718700408935\n",
      "Test R2: 0.8528660032269638, Test RMSE: 3.131404185295105\n"
     ]
    }
   ],
   "source": [
    "# Netz mit 50 Zufallsinitialisierungen laufen lassen\n",
    "test_r2_list = []\n",
    "test_rmse_list = []\n",
    "train_r2_list = []\n",
    "train_rmse_list = []\n",
    "\n",
    "for i in range(50):\n",
    "    model = ConcreteNeuralNetwork.ConcreteNN()\n",
    "    ConcreteNeuralNetwork.train(model, X_train, y_train, X_test, y_test)\n",
    "    test_r2, test_rmse = ConcreteNeuralNetwork.eval_model(model, X_test, y_test)\n",
    "    train_r2, train_rmse = ConcreteNeuralNetwork.eval_model(model, X_train, y_train)\n",
    "    test_r2_list.append(test_r2)\n",
    "    test_rmse_list.append(test_rmse)\n",
    "    train_r2_list.append(train_r2)\n",
    "    train_rmse_list.append(train_rmse)\n",
    "    \n",
    "print('Train R2: {}, Train RMSE: {}'.format(sum(train_r2_list)/50, sum(train_rmse_list)/50))\n",
    "print('Test R2: {}, Test RMSE: {}'.format(sum(test_r2_list)/50, sum(test_rmse_list)/50))"
   ]
  },
  {
   "cell_type": "code",
   "execution_count": 12,
   "metadata": {},
   "outputs": [
    {
     "name": "stdout",
     "output_type": "stream",
     "text": [
      "Train R2: 0.9297702668562022, Train RMSE: 2.0570353627204896\n",
      "Test R2: 0.8251438821659616, Test RMSE: 2.516061472892761\n"
     ]
    },
    {
     "data": {
      "text/plain": [
       "<ErrorbarContainer object of 3 artists>"
      ]
     },
     "execution_count": 12,
     "metadata": {},
     "output_type": "execute_result"
    },
    {
     "data": {
      "image/png": "[encoded data removed]",
      "text/plain": [
       "<Figure size 432x288 with 1 Axes>"
      ]
     },
     "metadata": {
      "needs_background": "light"
     },
     "output_type": "display_data"
    },
    {
     "data": {
      "image/png": "[encoded data removed]",
      "text/plain": [
       "<Figure size 432x288 with 1 Axes>"
      ]
     },
     "metadata": {
      "needs_background": "light"
     },
     "output_type": "display_data"
    }
   ],
   "source": [
    "# 10-Fold Cross Validation\n",
    "test_r2_list = []\n",
    "test_rmse_list = []\n",
    "train_r2_list = []\n",
    "train_rmse_list = []\n",
    "K = 10\n",
    "skf = sklearn.model_selection.KFold(n_splits=K)\n",
    "skf.get_n_splits(X, y)\n",
    "\n",
    "for train_index, test_index in skf.split(X, y):\n",
    "    X_train, X_test = X[train_index], X[test_index]\n",
    "    y_train, y_test = y[train_index], y[test_index]\n",
    "    X_train = torch.FloatTensor(X_train)\n",
    "    X_test = torch.FloatTensor(X_test)\n",
    "    y_train = torch.FloatTensor(y_train)\n",
    "    y_test = torch.FloatTensor(y_test)\n",
    "\n",
    "    model = ConcreteNeuralNetwork.ConcreteNN()\n",
    "    ConcreteNeuralNetwork.train(model, X_train, y_train, X_test, y_test)\n",
    "    \n",
    "    test_r2, test_rmse = ConcreteNeuralNetwork.eval_model(model, X_test, y_test)\n",
    "    train_r2, train_rmse = ConcreteNeuralNetwork.eval_model(model, X_train, y_train)\n",
    "\n",
    "    test_r2_list.append(test_r2)\n",
    "    test_rmse_list.append(test_rmse)\n",
    "    train_r2_list.append(train_r2)\n",
    "    train_rmse_list.append(train_rmse)\n",
    "\n",
    "print('Train R2: {}, Train RMSE: {}'.format(sum(train_r2_list)/K, sum(train_rmse_list)/K))\n",
    "print('Test R2: {}, Test RMSE: {}'.format(sum(test_r2_list)/K, sum(test_rmse_list)/K))\n",
    "\n",
    "train_r2_mean = torch.mean(torch.FloatTensor(train_r2_list)).item()\n",
    "train_r2_std = torch.std(torch.FloatTensor(train_r2_list)).item()\n",
    "train_rmse_mean = torch.mean(torch.FloatTensor(train_rmse_list)).item()\n",
    "train_rmse_std = torch.std(torch.FloatTensor(train_rmse_list)).item()\n",
    "test_r2_mean = torch.mean(torch.FloatTensor(test_r2_list)).item()\n",
    "test_r2_std = torch.std(torch.FloatTensor(test_r2_list)).item()\n",
    "test_rmse_mean = torch.mean(torch.FloatTensor(test_rmse_list)).item()\n",
    "test_rmse_std = torch.std(torch.FloatTensor(test_rmse_list)).item()\n",
    "\n",
    "r2_names = ['Train R2', 'Test R2']\n",
    "rmse_names = ['Train RMSE', 'Test RMSE']\n",
    "plt.figure()\n",
    "plt.errorbar(r2_names, [train_r2_mean, test_r2_mean], [train_r2_std, test_r2_std], linestyle='None', marker='o')\n",
    "plt.figure()\n",
    "plt.errorbar(rmse_names, [train_rmse_mean, test_rmse_mean], [train_rmse_std, test_rmse_std], linestyle='None', marker='o')\n"
   ]
  },
  {
   "cell_type": "markdown",
   "metadata": {},
   "source": [
    "# Informed Machine Learning: Custom Loss Function"
   ]
  },
  {
   "cell_type": "markdown",
   "metadata": {},
   "source": [
    "## Plot linear relationship"
   ]
  },
  {
   "cell_type": "code",
   "execution_count": 3,
   "metadata": {},
   "outputs": [
    {
     "name": "stdout",
     "output_type": "stream",
     "text": [
      "[35.595978  -0.9408999]\n"
     ]
    },
    {
     "data": {
      "text/plain": [
       "[<matplotlib.lines.Line2D at 0x7f5c4179ce20>]"
      ]
     },
     "execution_count": 3,
     "metadata": {},
     "output_type": "execute_result"
    },
    {
     "data": {
      "image/png": "[encoded data removed]",
      "text/plain": [
       "<Figure size 432x288 with 1 Axes>"
      ]
     },
     "metadata": {
      "needs_background": "light"
     },
     "output_type": "display_data"
    }
   ],
   "source": [
    "# Plot linear relationship between Water, Cement and Concrete Strength\n",
    "W, b = ConcreteNeuralNetwork.linear_relationship(X_train, y_train)\n",
    "print(b)\n",
    "x_line = np.linspace(-4, 2, 100)\n",
    "y_line = b[0] + b[1]*x_line\n",
    "\n",
    "plt.scatter(W[:, 1], y_train)\n",
    "plt.plot(x_line, y_line)"
   ]
  },
  {
   "cell_type": "markdown",
   "metadata": {},
   "source": [
    "## Informed Loss 1"
   ]
  },
  {
   "cell_type": "markdown",
   "metadata": {},
   "source": [
    "\\begin{align}\n",
    "InformedLoss = MSELoss(output, target) + \\lambda\\cdot ReLU(target - (b_0 + b_1\\cdot w))\n",
    "\\end{align}"
   ]
  },
  {
   "cell_type": "markdown",
   "metadata": {},
   "source": [
    "### Train with $\\lambda$ = 0.1 once, plot statistics"
   ]
  },
  {
   "cell_type": "code",
   "execution_count": 6,
   "metadata": {},
   "outputs": [
    {
     "name": "stdout",
     "output_type": "stream",
     "text": [
      "Train R2: 0.912605382915494, Train RMSE: 2.2411818504333496\n",
      "Test R2: 0.8352639144163603, Test RMSE: 3.3139657974243164\n"
     ]
    },
    {
     "data": {
      "image/png": "[encoded data removed]",
      "text/plain": [
       "<Figure size 432x288 with 1 Axes>"
      ]
     },
     "metadata": {
      "needs_background": "light"
     },
     "output_type": "display_data"
    }
   ],
   "source": [
    "model = ConcreteNeuralNetwork.ConcreteNN()\n",
    "# train with custom loss: \n",
    "#       Inputs: Custom Loss, lambda, X_train, y_train, X_test, y_test\n",
    "#       Outputs: Loss and Test Loss over Time, Model Training\n",
    "loss_over_time, test_loss_over_time = ConcreteNeuralNetwork.train_with_closs(model, ConcreteNeuralNetwork.informed_loss1, 0.1, X_train, y_train, X_test, y_test)\n",
    "\n",
    "plt.figure()\n",
    "plt.plot(loss_over_time)\n",
    "plt.plot(test_loss_over_time)\n",
    "\n",
    "test_r2, test_rmse = ConcreteNeuralNetwork.eval_model(model, X_test, y_test)\n",
    "train_r2, train_rmse = ConcreteNeuralNetwork.eval_model(model, X_train, y_train)\n",
    "\n",
    "print('Train R2: {}, Train RMSE: {}'.format(train_r2, train_rmse))\n",
    "print('Test R2: {}, Test RMSE: {}'.format(test_r2, test_rmse))"
   ]
  },
  {
   "cell_type": "markdown",
   "metadata": {},
   "source": [
    "### 10-Fold Cross Validation with $\\lambda$ = 1, plot statistics\n",
    "(Keine Kostenkurven hier)"
   ]
  },
  {
   "cell_type": "code",
   "execution_count": 7,
   "metadata": {},
   "outputs": [
    {
     "name": "stdout",
     "output_type": "stream",
     "text": [
      "Train R2: 0.9171558869502364, Train RMSE: 2.230756378173828\n",
      "Test R2: 0.7892415006153649, Test RMSE: 2.7438304901123045\n"
     ]
    },
    {
     "data": {
      "text/plain": [
       "<ErrorbarContainer object of 3 artists>"
      ]
     },
     "execution_count": 7,
     "metadata": {},
     "output_type": "execute_result"
    },
    {
     "data": {
      "image/png": "[encoded data removed]",
      "text/plain": [
       "<Figure size 432x288 with 1 Axes>"
      ]
     },
     "metadata": {
      "needs_background": "light"
     },
     "output_type": "display_data"
    },
    {
     "data": {
      "image/png": "[encoded data removed]",
      "text/plain": [
       "<Figure size 432x288 with 1 Axes>"
      ]
     },
     "metadata": {
      "needs_background": "light"
     },
     "output_type": "display_data"
    }
   ],
   "source": [
    "# 10-Fold Cross Validation\n",
    "test_r2_list = []\n",
    "test_rmse_list = []\n",
    "train_r2_list = []\n",
    "train_rmse_list = []\n",
    "K = 10\n",
    "lamb = 0.1\n",
    "\n",
    "skf = sklearn.model_selection.KFold(n_splits=K)\n",
    "skf.get_n_splits(X, y)\n",
    "\n",
    "for train_index, test_index in skf.split(X, y):\n",
    "    X_train, X_test = X[train_index], X[test_index]\n",
    "    y_train, y_test = y[train_index], y[test_index]\n",
    "    X_train = torch.FloatTensor(X_train)\n",
    "    X_test = torch.FloatTensor(X_test)\n",
    "    y_train = torch.FloatTensor(y_train)\n",
    "    y_test = torch.FloatTensor(y_test)\n",
    "\n",
    "    model = ConcreteNeuralNetwork.ConcreteNN()\n",
    "    ConcreteNeuralNetwork.train_with_closs(model, ConcreteNeuralNetwork.informed_loss1, lamb, X_train, y_train, X_test, y_test)\n",
    "    \n",
    "    test_r2, test_rmse = ConcreteNeuralNetwork.eval_model(model, X_test, y_test)\n",
    "    train_r2, train_rmse = ConcreteNeuralNetwork.eval_model(model, X_train, y_train)\n",
    "\n",
    "    test_r2_list.append(test_r2)\n",
    "    test_rmse_list.append(test_rmse)\n",
    "    train_r2_list.append(train_r2)\n",
    "    train_rmse_list.append(train_rmse)\n",
    "\n",
    "print('Train R2: {}, Train RMSE: {}'.format(sum(train_r2_list)/K, sum(train_rmse_list)/K))\n",
    "print('Test R2: {}, Test RMSE: {}'.format(sum(test_r2_list)/K, sum(test_rmse_list)/K))\n",
    "\n",
    "train_r2_mean = torch.mean(torch.FloatTensor(train_r2_list)).item()\n",
    "train_r2_std = torch.std(torch.FloatTensor(train_r2_list)).item()\n",
    "train_rmse_mean = torch.mean(torch.FloatTensor(train_rmse_list)).item()\n",
    "train_rmse_std = torch.std(torch.FloatTensor(train_rmse_list)).item()\n",
    "test_r2_mean = torch.mean(torch.FloatTensor(test_r2_list)).item()\n",
    "test_r2_std = torch.std(torch.FloatTensor(test_r2_list)).item()\n",
    "test_rmse_mean = torch.mean(torch.FloatTensor(test_rmse_list)).item()\n",
    "test_rmse_std = torch.std(torch.FloatTensor(test_rmse_list)).item()\n",
    "\n",
    "r2_names = ['Train R2', 'Test R2']\n",
    "rmse_names = ['Train RMSE', 'Test RMSE']\n",
    "plt.figure()\n",
    "plt.errorbar(r2_names, [train_r2_mean, test_r2_mean], [train_r2_std, test_r2_std], linestyle='None', marker='o')\n",
    "plt.figure()\n",
    "plt.errorbar(rmse_names, [train_rmse_mean, test_rmse_mean], [train_rmse_std, test_rmse_std], linestyle='None', marker='o')"
   ]
  },
  {
   "cell_type": "markdown",
   "metadata": {},
   "source": [
    "### Train several values for $\\lambda$ with 10-Fold CV."
   ]
  },
  {
   "cell_type": "code",
   "execution_count": 14,
   "metadata": {},
   "outputs": [
    {
     "data": {
      "image/png": "[encoded data removed]",
      "text/plain": [
       "<Figure size 432x288 with 1 Axes>"
      ]
     },
     "metadata": {
      "needs_background": "light"
     },
     "output_type": "display_data"
    },
    {
     "data": {
      "image/png": "[encoded data removed]",
      "text/plain": [
       "<Figure size 432x288 with 1 Axes>"
      ]
     },
     "metadata": {
      "needs_background": "light"
     },
     "output_type": "display_data"
    }
   ],
   "source": [
    "# 10-Fold Cross Validation\n",
    "K = 10\n",
    "lambdas = [0, 0.001, 0.01, 0.1, 1, 10]\n",
    "\n",
    "test_r2_list = []\n",
    "test_rmse_list = []\n",
    "train_r2_list = []\n",
    "train_rmse_list = []\n",
    "train_r2_means = []\n",
    "train_r2_stds = []\n",
    "train_rmse_means = [] \n",
    "train_rmse_stds = []\n",
    "test_r2_means = [] \n",
    "test_r2_stds = []\n",
    "test_rmse_means = [] \n",
    "test_rmse_stds = []\n",
    "\n",
    "skf = sklearn.model_selection.KFold(n_splits=K)\n",
    "skf.get_n_splits(X, y)\n",
    "for lamb in lambdas:\n",
    "    for train_index, test_index in skf.split(X, y):\n",
    "        X_train, X_test = X[train_index], X[test_index]\n",
    "        y_train, y_test = y[train_index], y[test_index]\n",
    "        X_train = torch.FloatTensor(X_train)\n",
    "        X_test = torch.FloatTensor(X_test)\n",
    "        y_train = torch.FloatTensor(y_train)\n",
    "        y_test = torch.FloatTensor(y_test)\n",
    "\n",
    "        model = ConcreteNeuralNetwork.ConcreteNN()\n",
    "        ConcreteNeuralNetwork.train_with_closs(model, ConcreteNeuralNetwork.informed_loss1, lamb, X_train, y_train, X_test, y_test)\n",
    "        \n",
    "        test_r2, test_rmse = ConcreteNeuralNetwork.eval_model(model, X_test, y_test)\n",
    "        train_r2, train_rmse = ConcreteNeuralNetwork.eval_model(model, X_train, y_train)\n",
    "\n",
    "        test_r2_list.append(test_r2)\n",
    "        test_rmse_list.append(test_rmse)\n",
    "        train_r2_list.append(train_r2)\n",
    "        train_rmse_list.append(train_rmse)\n",
    "\n",
    "    train_r2_mean = torch.mean(torch.FloatTensor(train_r2_list)).item()\n",
    "    train_r2_std = torch.std(torch.FloatTensor(train_r2_list)).item()\n",
    "    train_rmse_mean = torch.mean(torch.FloatTensor(train_rmse_list)).item()\n",
    "    train_rmse_std = torch.std(torch.FloatTensor(train_rmse_list)).item()\n",
    "    test_r2_mean = torch.mean(torch.FloatTensor(test_r2_list)).item()\n",
    "    test_r2_std = torch.std(torch.FloatTensor(test_r2_list)).item()\n",
    "    test_rmse_mean = torch.mean(torch.FloatTensor(test_rmse_list)).item()\n",
    "    test_rmse_std = torch.std(torch.FloatTensor(test_rmse_list)).item()\n",
    "    \n",
    "    train_r2_means.append(train_r2_mean)\n",
    "    train_r2_stds.append(train_r2_std)\n",
    "    train_rmse_means.append(train_rmse_mean)\n",
    "    train_rmse_stds.append(train_rmse_std)\n",
    "    test_r2_means.append(test_r2_mean)\n",
    "    test_r2_stds.append(test_r2_std)\n",
    "    test_rmse_means.append(test_rmse_mean) \n",
    "    test_rmse_stds.append(test_rmse_std)\n",
    "    \n",
    "plt.figure()\n",
    "plt.errorbar(lambdas, test_r2_means, test_r2_stds, linestyle='None', marker='o')\n",
    "plt.xscale('log')\n",
    "plt.figure()\n",
    "plt.errorbar(lambdas, test_rmse_means, test_rmse_stds, linestyle='None', marker='o')\n",
    "plt.xscale('log')"
   ]
  },
  {
   "cell_type": "markdown",
   "metadata": {},
   "source": [
    "## Informed Loss 2"
   ]
  },
  {
   "cell_type": "markdown",
   "metadata": {},
   "source": [
    "\\begin{align}\n",
    "InformedLoss = MSELoss(output, target) + \\lambda\\cdot ReLU(|f - (b_0 + b_1\\cdot w)|)\n",
    "\\end{align}"
   ]
  },
  {
   "cell_type": "markdown",
   "metadata": {},
   "source": [
    "### Train with $\\lambda$ = 0.1 once, plot statistics"
   ]
  },
  {
   "cell_type": "code",
   "execution_count": 8,
   "metadata": {},
   "outputs": [
    {
     "name": "stdout",
     "output_type": "stream",
     "text": [
      "Train R2: 0.8869126635257429, Train RMSE: 2.4820916652679443\n",
      "Test R2: 0.6168090724997513, Test RMSE: 2.6511313915252686\n"
     ]
    },
    {
     "data": {
      "image/png": "[encoded data removed]",
      "text/plain": [
       "<Figure size 432x288 with 1 Axes>"
      ]
     },
     "metadata": {
      "needs_background": "light"
     },
     "output_type": "display_data"
    }
   ],
   "source": [
    "model = ConcreteNeuralNetwork.ConcreteNN()\n",
    "# train with custom loss: \n",
    "#       Inputs: Custom Loss, lambda, X_train, y_train, X_test, y_test\n",
    "#       Outputs: Loss and Test Loss over Time, Model Training\n",
    "loss_over_time, test_loss_over_time = ConcreteNeuralNetwork.train_with_closs(model, ConcreteNeuralNetwork.informed_loss2, 0.1, X_train, y_train, X_test, y_test)\n",
    "\n",
    "plt.figure()\n",
    "plt.plot(loss_over_time)\n",
    "plt.plot(test_loss_over_time)\n",
    "\n",
    "test_r2, test_rmse = ConcreteNeuralNetwork.eval_model(model, X_test, y_test)\n",
    "train_r2, train_rmse = ConcreteNeuralNetwork.eval_model(model, X_train, y_train)\n",
    "\n",
    "print('Train R2: {}, Train RMSE: {}'.format(train_r2, train_rmse))\n",
    "print('Test R2: {}, Test RMSE: {}'.format(test_r2, test_rmse))"
   ]
  },
  {
   "cell_type": "markdown",
   "metadata": {},
   "source": [
    "### 10-Fold Cross Validation with $\\lambda$ = 1, plot statistics\n",
    "(Keine Kostenkurven hier)"
   ]
  },
  {
   "cell_type": "code",
   "execution_count": 9,
   "metadata": {},
   "outputs": [
    {
     "name": "stdout",
     "output_type": "stream",
     "text": [
      "Train R2: 0.912282729766091, Train RMSE: 2.2953068733215334\n",
      "Test R2: 0.7805265912083615, Test RMSE: 2.7900069832801817\n"
     ]
    },
    {
     "data": {
      "text/plain": [
       "<ErrorbarContainer object of 3 artists>"
      ]
     },
     "execution_count": 9,
     "metadata": {},
     "output_type": "execute_result"
    },
    {
     "data": {
      "image/png": "[encoded data removed]",
      "text/plain": [
       "<Figure size 432x288 with 1 Axes>"
      ]
     },
     "metadata": {
      "needs_background": "light"
     },
     "output_type": "display_data"
    },
    {
     "data": {
      "image/png": "[encoded data removed]",
      "text/plain": [
       "<Figure size 432x288 with 1 Axes>"
      ]
     },
     "metadata": {
      "needs_background": "light"
     },
     "output_type": "display_data"
    }
   ],
   "source": [
    "# 10-Fold Cross Validation\n",
    "test_r2_list = []\n",
    "test_rmse_list = []\n",
    "train_r2_list = []\n",
    "train_rmse_list = []\n",
    "K = 10\n",
    "lamb = 0.1\n",
    "\n",
    "skf = sklearn.model_selection.KFold(n_splits=K)\n",
    "skf.get_n_splits(X, y)\n",
    "\n",
    "for train_index, test_index in skf.split(X, y):\n",
    "    X_train, X_test = X[train_index], X[test_index]\n",
    "    y_train, y_test = y[train_index], y[test_index]\n",
    "    X_train = torch.FloatTensor(X_train)\n",
    "    X_test = torch.FloatTensor(X_test)\n",
    "    y_train = torch.FloatTensor(y_train)\n",
    "    y_test = torch.FloatTensor(y_test)\n",
    "\n",
    "    model = ConcreteNeuralNetwork.ConcreteNN()\n",
    "    ConcreteNeuralNetwork.train_with_closs(model, ConcreteNeuralNetwork.informed_loss2, lamb, X_train, y_train, X_test, y_test)\n",
    "    \n",
    "    test_r2, test_rmse = ConcreteNeuralNetwork.eval_model(model, X_test, y_test)\n",
    "    train_r2, train_rmse = ConcreteNeuralNetwork.eval_model(model, X_train, y_train)\n",
    "\n",
    "    test_r2_list.append(test_r2)\n",
    "    test_rmse_list.append(test_rmse)\n",
    "    train_r2_list.append(train_r2)\n",
    "    train_rmse_list.append(train_rmse)\n",
    "\n",
    "print('Train R2: {}, Train RMSE: {}'.format(sum(train_r2_list)/K, sum(train_rmse_list)/K))\n",
    "print('Test R2: {}, Test RMSE: {}'.format(sum(test_r2_list)/K, sum(test_rmse_list)/K))\n",
    "\n",
    "train_r2_mean = torch.mean(torch.FloatTensor(train_r2_list)).item()\n",
    "train_r2_std = torch.std(torch.FloatTensor(train_r2_list)).item()\n",
    "train_rmse_mean = torch.mean(torch.FloatTensor(train_rmse_list)).item()\n",
    "train_rmse_std = torch.std(torch.FloatTensor(train_rmse_list)).item()\n",
    "test_r2_mean = torch.mean(torch.FloatTensor(test_r2_list)).item()\n",
    "test_r2_std = torch.std(torch.FloatTensor(test_r2_list)).item()\n",
    "test_rmse_mean = torch.mean(torch.FloatTensor(test_rmse_list)).item()\n",
    "test_rmse_std = torch.std(torch.FloatTensor(test_rmse_list)).item()\n",
    "\n",
    "r2_names = ['Train R2', 'Test R2']\n",
    "rmse_names = ['Train RMSE', 'Test RMSE']\n",
    "plt.figure()\n",
    "plt.errorbar(r2_names, [train_r2_mean, test_r2_mean], [train_r2_std, test_r2_std], linestyle='None', marker='o')\n",
    "plt.figure()\n",
    "plt.errorbar(rmse_names, [train_rmse_mean, test_rmse_mean], [train_rmse_std, test_rmse_std], linestyle='None', marker='o')"
   ]
  },
  {
   "cell_type": "markdown",
   "metadata": {},
   "source": [
    "### Train several values for $\\lambda$ with 10-Fold CV."
   ]
  },
  {
   "cell_type": "code",
   "execution_count": 15,
   "metadata": {},
   "outputs": [
    {
     "data": {
      "image/png": "[encoded data removed]",
      "text/plain": [
       "<Figure size 432x288 with 1 Axes>"
      ]
     },
     "metadata": {
      "needs_background": "light"
     },
     "output_type": "display_data"
    },
    {
     "data": {
      "image/png": "[encoded data removed]",
      "text/plain": [
       "<Figure size 432x288 with 1 Axes>"
      ]
     },
     "metadata": {
      "needs_background": "light"
     },
     "output_type": "display_data"
    }
   ],
   "source": [
    "# 10-Fold Cross Validation\n",
    "K = 10\n",
    "lambdas = [0, 0.001, 0.01, 0.1, 1, 10]\n",
    "\n",
    "test_r2_list = []\n",
    "test_rmse_list = []\n",
    "train_r2_list = []\n",
    "train_rmse_list = []\n",
    "train_r2_means = []\n",
    "train_r2_stds = []\n",
    "train_rmse_means = [] \n",
    "train_rmse_stds = []\n",
    "test_r2_means = [] \n",
    "test_r2_stds = []\n",
    "test_rmse_means = [] \n",
    "test_rmse_stds = []\n",
    "\n",
    "skf = sklearn.model_selection.KFold(n_splits=K)\n",
    "skf.get_n_splits(X, y)\n",
    "for lamb in lambdas:\n",
    "    for train_index, test_index in skf.split(X, y):\n",
    "        X_train, X_test = X[train_index], X[test_index]\n",
    "        y_train, y_test = y[train_index], y[test_index]\n",
    "        X_train = torch.FloatTensor(X_train)\n",
    "        X_test = torch.FloatTensor(X_test)\n",
    "        y_train = torch.FloatTensor(y_train)\n",
    "        y_test = torch.FloatTensor(y_test)\n",
    "\n",
    "        model = ConcreteNeuralNetwork.ConcreteNN()\n",
    "        ConcreteNeuralNetwork.train_with_closs(model, ConcreteNeuralNetwork.informed_loss2, lamb, X_train, y_train, X_test, y_test)\n",
    "        \n",
    "        test_r2, test_rmse = ConcreteNeuralNetwork.eval_model(model, X_test, y_test)\n",
    "        train_r2, train_rmse = ConcreteNeuralNetwork.eval_model(model, X_train, y_train)\n",
    "\n",
    "        test_r2_list.append(test_r2)\n",
    "        test_rmse_list.append(test_rmse)\n",
    "        train_r2_list.append(train_r2)\n",
    "        train_rmse_list.append(train_rmse)\n",
    "\n",
    "    train_r2_mean = torch.mean(torch.FloatTensor(train_r2_list)).item()\n",
    "    train_r2_std = torch.std(torch.FloatTensor(train_r2_list)).item()\n",
    "    train_rmse_mean = torch.mean(torch.FloatTensor(train_rmse_list)).item()\n",
    "    train_rmse_std = torch.std(torch.FloatTensor(train_rmse_list)).item()\n",
    "    test_r2_mean = torch.mean(torch.FloatTensor(test_r2_list)).item()\n",
    "    test_r2_std = torch.std(torch.FloatTensor(test_r2_list)).item()\n",
    "    test_rmse_mean = torch.mean(torch.FloatTensor(test_rmse_list)).item()\n",
    "    test_rmse_std = torch.std(torch.FloatTensor(test_rmse_list)).item()\n",
    "    \n",
    "    train_r2_means.append(train_r2_mean)\n",
    "    train_r2_stds.append(train_r2_std)\n",
    "    train_rmse_means.append(train_rmse_mean)\n",
    "    train_rmse_stds.append(train_rmse_std)\n",
    "    test_r2_means.append(test_r2_mean)\n",
    "    test_r2_stds.append(test_r2_std)\n",
    "    test_rmse_means.append(test_rmse_mean) \n",
    "    test_rmse_stds.append(test_rmse_std)\n",
    "    \n",
    "plt.figure()\n",
    "plt.errorbar(lambdas, test_r2_means, test_r2_stds, linestyle='None', marker='o')\n",
    "plt.xscale('log')\n",
    "plt.figure()\n",
    "plt.errorbar(lambdas, test_rmse_means, test_rmse_stds, linestyle='None', marker='o')\n",
    "plt.xscale('log')"
   ]
  },
  {
   "cell_type": "markdown",
   "metadata": {},
   "source": [
    "## InformedLoss 3\n"
   ]
  },
  {
   "cell_type": "markdown",
   "metadata": {},
   "source": [
    "\\begin{align}\n",
    "InformedLoss = MSELoss(output, target) + \\lambda\\cdot|f - (b_0 + b_1\\cdot w)|\n",
    "\\end{align}"
   ]
  },
  {
   "cell_type": "markdown",
   "metadata": {},
   "source": [
    "### Train with $\\lambda$ = 0.1 once, plot statistics"
   ]
  },
  {
   "cell_type": "code",
   "execution_count": 18,
   "metadata": {},
   "outputs": [
    {
     "name": "stdout",
     "output_type": "stream",
     "text": [
      "Train R2: 0.8939559673010351, Train RMSE: 2.4035539627075195\n",
      "Test R2: 0.6115649616724229, Test RMSE: 2.66921067237854\n"
     ]
    },
    {
     "data": {
      "image/png": "[encoded data removed]",
      "text/plain": [
       "<Figure size 432x288 with 1 Axes>"
      ]
     },
     "metadata": {
      "needs_background": "light"
     },
     "output_type": "display_data"
    }
   ],
   "source": [
    "model = ConcreteNeuralNetwork.ConcreteNN()\n",
    "# train with custom loss: \n",
    "#       Inputs: Custom Loss, lambda, X_train, y_train, X_test, y_test\n",
    "#       Outputs: Loss and Test Loss over Time, Model Training\n",
    "loss_over_time, test_loss_over_time = ConcreteNeuralNetwork.train_with_closs(model, ConcreteNeuralNetwork.informed_loss3, 0.1, X_train, y_train, X_test, y_test)\n",
    "\n",
    "plt.figure()\n",
    "plt.plot(loss_over_time)\n",
    "plt.plot(test_loss_over_time)\n",
    "\n",
    "test_r2, test_rmse = ConcreteNeuralNetwork.eval_model(model, X_test, y_test)\n",
    "train_r2, train_rmse = ConcreteNeuralNetwork.eval_model(model, X_train, y_train)\n",
    "\n",
    "print('Train R2: {}, Train RMSE: {}'.format(train_r2, train_rmse))\n",
    "print('Test R2: {}, Test RMSE: {}'.format(test_r2, test_rmse))"
   ]
  },
  {
   "cell_type": "markdown",
   "metadata": {},
   "source": [
    "### 10-Fold Cross Validation with $\\lambda$ = 1, plot statistics\n",
    "(Keine Kostenkurven hier)"
   ]
  },
  {
   "cell_type": "code",
   "execution_count": 17,
   "metadata": {},
   "outputs": [
    {
     "name": "stdout",
     "output_type": "stream",
     "text": [
      "Train R2: 0.9158640383468682, Train RMSE: 2.248915457725525\n",
      "Test R2: 0.7970601458565738, Test RMSE: 2.7005853772163393\n"
     ]
    },
    {
     "data": {
      "text/plain": [
       "<ErrorbarContainer object of 3 artists>"
      ]
     },
     "execution_count": 17,
     "metadata": {},
     "output_type": "execute_result"
    },
    {
     "data": {
      "image/png": "[encoded data removed]",
      "text/plain": [
       "<Figure size 432x288 with 1 Axes>"
      ]
     },
     "metadata": {
      "needs_background": "light"
     },
     "output_type": "display_data"
    },
    {
     "data": {
      "image/png": "[encoded data removed]",
      "text/plain": [
       "<Figure size 432x288 with 1 Axes>"
      ]
     },
     "metadata": {
      "needs_background": "light"
     },
     "output_type": "display_data"
    }
   ],
   "source": [
    "# 10-Fold Cross Validation\n",
    "test_r2_list = []\n",
    "test_rmse_list = []\n",
    "train_r2_list = []\n",
    "train_rmse_list = []\n",
    "K = 10\n",
    "lamb = 0.1\n",
    "\n",
    "skf = sklearn.model_selection.KFold(n_splits=K)\n",
    "skf.get_n_splits(X, y)\n",
    "\n",
    "for train_index, test_index in skf.split(X, y):\n",
    "    X_train, X_test = X[train_index], X[test_index]\n",
    "    y_train, y_test = y[train_index], y[test_index]\n",
    "    X_train = torch.FloatTensor(X_train)\n",
    "    X_test = torch.FloatTensor(X_test)\n",
    "    y_train = torch.FloatTensor(y_train)\n",
    "    y_test = torch.FloatTensor(y_test)\n",
    "\n",
    "    model = ConcreteNeuralNetwork.ConcreteNN()\n",
    "    ConcreteNeuralNetwork.train_with_closs(model, ConcreteNeuralNetwork.informed_loss2, lamb, X_train, y_train, X_test, y_test)\n",
    "    \n",
    "    test_r2, test_rmse = ConcreteNeuralNetwork.eval_model(model, X_test, y_test)\n",
    "    train_r2, train_rmse = ConcreteNeuralNetwork.eval_model(model, X_train, y_train)\n",
    "\n",
    "    test_r2_list.append(test_r2)\n",
    "    test_rmse_list.append(test_rmse)\n",
    "    train_r2_list.append(train_r2)\n",
    "    train_rmse_list.append(train_rmse)\n",
    "\n",
    "print('Train R2: {}, Train RMSE: {}'.format(sum(train_r2_list)/K, sum(train_rmse_list)/K))\n",
    "print('Test R2: {}, Test RMSE: {}'.format(sum(test_r2_list)/K, sum(test_rmse_list)/K))\n",
    "\n",
    "train_r2_mean = torch.mean(torch.FloatTensor(train_r2_list)).item()\n",
    "train_r2_std = torch.std(torch.FloatTensor(train_r2_list)).item()\n",
    "train_rmse_mean = torch.mean(torch.FloatTensor(train_rmse_list)).item()\n",
    "train_rmse_std = torch.std(torch.FloatTensor(train_rmse_list)).item()\n",
    "test_r2_mean = torch.mean(torch.FloatTensor(test_r2_list)).item()\n",
    "test_r2_std = torch.std(torch.FloatTensor(test_r2_list)).item()\n",
    "test_rmse_mean = torch.mean(torch.FloatTensor(test_rmse_list)).item()\n",
    "test_rmse_std = torch.std(torch.FloatTensor(test_rmse_list)).item()\n",
    "\n",
    "r2_names = ['Train R2', 'Test R2']\n",
    "rmse_names = ['Train RMSE', 'Test RMSE']\n",
    "plt.figure()\n",
    "plt.errorbar(r2_names, [train_r2_mean, test_r2_mean], [train_r2_std, test_r2_std], linestyle='None', marker='o')\n",
    "plt.figure()\n",
    "plt.errorbar(rmse_names, [train_rmse_mean, test_rmse_mean], [train_rmse_std, test_rmse_std], linestyle='None', marker='o')"
   ]
  },
  {
   "cell_type": "markdown",
   "metadata": {},
   "source": [
    "### Train several values for $\\lambda$ with 10-Fold CV."
   ]
  },
  {
   "cell_type": "code",
   "execution_count": 16,
   "metadata": {},
   "outputs": [
    {
     "data": {
      "image/png": "[encoded data removed]",
      "text/plain": [
       "<Figure size 432x288 with 1 Axes>"
      ]
     },
     "metadata": {
      "needs_background": "light"
     },
     "output_type": "display_data"
    },
    {
     "data": {
      "image/png": "[encoded data removed]",
      "text/plain": [
       "<Figure size 432x288 with 1 Axes>"
      ]
     },
     "metadata": {
      "needs_background": "light"
     },
     "output_type": "display_data"
    }
   ],
   "source": [
    "# 10-Fold Cross Validation\n",
    "K = 10\n",
    "lambdas = [0, 0.001, 0.01, 0.1, 1, 10]\n",
    "\n",
    "test_r2_list = []\n",
    "test_rmse_list = []\n",
    "train_r2_list = []\n",
    "train_rmse_list = []\n",
    "train_r2_means = []\n",
    "train_r2_stds = []\n",
    "train_rmse_means = [] \n",
    "train_rmse_stds = []\n",
    "test_r2_means = [] \n",
    "test_r2_stds = []\n",
    "test_rmse_means = [] \n",
    "test_rmse_stds = []\n",
    "\n",
    "skf = sklearn.model_selection.KFold(n_splits=K)\n",
    "skf.get_n_splits(X, y)\n",
    "for lamb in lambdas:\n",
    "    for train_index, test_index in skf.split(X, y):\n",
    "        X_train, X_test = X[train_index], X[test_index]\n",
    "        y_train, y_test = y[train_index], y[test_index]\n",
    "        X_train = torch.FloatTensor(X_train)\n",
    "        X_test = torch.FloatTensor(X_test)\n",
    "        y_train = torch.FloatTensor(y_train)\n",
    "        y_test = torch.FloatTensor(y_test)\n",
    "\n",
    "        model = ConcreteNeuralNetwork.ConcreteNN()\n",
    "        ConcreteNeuralNetwork.train_with_closs(model, ConcreteNeuralNetwork.informed_loss3, lamb, X_train, y_train, X_test, y_test)\n",
    "        \n",
    "        test_r2, test_rmse = ConcreteNeuralNetwork.eval_model(model, X_test, y_test)\n",
    "        train_r2, train_rmse = ConcreteNeuralNetwork.eval_model(model, X_train, y_train)\n",
    "\n",
    "        test_r2_list.append(test_r2)\n",
    "        test_rmse_list.append(test_rmse)\n",
    "        train_r2_list.append(train_r2)\n",
    "        train_rmse_list.append(train_rmse)\n",
    "\n",
    "    train_r2_mean = torch.mean(torch.FloatTensor(train_r2_list)).item()\n",
    "    train_r2_std = torch.std(torch.FloatTensor(train_r2_list)).item()\n",
    "    train_rmse_mean = torch.mean(torch.FloatTensor(train_rmse_list)).item()\n",
    "    train_rmse_std = torch.std(torch.FloatTensor(train_rmse_list)).item()\n",
    "    test_r2_mean = torch.mean(torch.FloatTensor(test_r2_list)).item()\n",
    "    test_r2_std = torch.std(torch.FloatTensor(test_r2_list)).item()\n",
    "    test_rmse_mean = torch.mean(torch.FloatTensor(test_rmse_list)).item()\n",
    "    test_rmse_std = torch.std(torch.FloatTensor(test_rmse_list)).item()\n",
    "    \n",
    "    train_r2_means.append(train_r2_mean)\n",
    "    train_r2_stds.append(train_r2_std)\n",
    "    train_rmse_means.append(train_rmse_mean)\n",
    "    train_rmse_stds.append(train_rmse_std)\n",
    "    test_r2_means.append(test_r2_mean)\n",
    "    test_r2_stds.append(test_r2_std)\n",
    "    test_rmse_means.append(test_rmse_mean) \n",
    "    test_rmse_stds.append(test_rmse_std)\n",
    "    \n",
    "plt.figure()\n",
    "plt.errorbar(lambdas, test_r2_means, test_r2_stds, linestyle='None', marker='o')\n",
    "plt.xscale('log')\n",
    "plt.figure()\n",
    "plt.errorbar(lambdas, test_rmse_means, test_rmse_stds, linestyle='None', marker='o')\n",
    "plt.xscale('log')"
   ]
  }
 ],
 "metadata": {
  "kernelspec": {
   "display_name": "Python 3.8.13 ('AutoML')",
   "language": "python",
   "name": "python3"
  },
  "language_info": {
   "codemirror_mode": {
    "name": "ipython",
    "version": 3
   },
   "file_extension": ".py",
   "mimetype": "text/x-python",
   "name": "python",
   "nbconvert_exporter": "python",
   "pygments_lexer": "ipython3",
   "version": "3.8.13"
  },
  "orig_nbformat": 4,
  "vscode": {
   "interpreter": {
    "hash": "8c987f447b3d8b7fbc1b90bcfc8f9402522a4a53d74324611693e3c189ce101c"
   }
  }
 },
 "nbformat": 4,
 "nbformat_minor": 2
}
