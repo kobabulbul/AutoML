{
  "nbformat": 4,
  "nbformat_minor": 0,
  "metadata": {
    "colab": {
      "name": "AutoML_RandomForest.ipynb",
      "provenance": [],
      "mount_file_id": "1obYjLsFNglfZrMxIKsj6S_7xrr89AedV",
      "authorship_tag": "ABX9TyNPEcgAOWauchPEmeM7T8h9",
      "include_colab_link": true
    },
    "kernelspec": {
      "name": "python3",
      "display_name": "Python 3"
    },
    "language_info": {
      "name": "python"
    }
  },
  "cells": [
    {
      "cell_type": "markdown",
      "metadata": {
        "id": "view-in-github",
        "colab_type": "text"
      },
      "source": [
        "<a href=\"https://colab.research.google.com/github/koba341/AutoML/blob/main/AutoML_RandomForest.ipynb\" target=\"_parent\"><img src=\"https://colab.research.google.com/assets/colab-badge.svg\" alt=\"Open In Colab\"/></a>"
      ]
    },
    {
      "cell_type": "code",
      "source": [
        "!pip install auto-sklearn"
      ],
      "metadata": {
        "id": "xo_7_Ar-xNcN"
      },
      "execution_count": null,
      "outputs": []
    },
    {
      "cell_type": "code",
      "source": [
        "!pip install scipy==1.7.3"
      ],
      "metadata": {
        "id": "Vj_lC5ahnuvi"
      },
      "execution_count": null,
      "outputs": []
    },
    {
      "cell_type": "code",
      "source": [
        "# import needed packages\n",
        "import pandas as pd\n",
        "import torch\n",
        "import torch.nn as nn\n",
        "from torch.utils.data import Dataset\n",
        "from torchvision import datasets\n",
        "from torch.utils.data import DataLoader\n",
        "import sklearn.datasets\n",
        "import sklearn.metrics\n",
        "import sklearn.model_selection\n",
        "import sklearn.ensemble\n",
        "import matplotlib.pyplot as plt\n",
        "import numpy as np\n",
        "import time\n",
        "from matplotlib import pyplot as plt\n",
        "\n",
        "\n",
        "import autosklearn.regression\n",
        "\n"
      ],
      "metadata": {
        "id": "8o4dxQ6iqbRk"
      },
      "execution_count": 1,
      "outputs": []
    },
    {
      "cell_type": "code",
      "source": [
        "#import the data set\n",
        "data = pd.read_csv(\"/content/drive/MyDrive/Colab Notebooks/AutoML/slump_test.csv\")\n",
        "X = data.iloc[:, 1:10].to_numpy()\n",
        "y = data.iloc[:, 10].to_numpy()\n",
        "\n",
        "\n",
        "X_train, X_test, y_train, y_test = \\\n",
        "    sklearn.model_selection.train_test_split(X, y, train_size=0.90,random_state=1) # create training and test dataset. \n",
        "\n",
        "# print some information\n",
        "print('Size of X: ', X.shape)\n",
        "print('Size of X_train: ', X_train.shape)\n",
        "print('Size of X_test: ', X_test.shape)\n",
        "print(data.head())"
      ],
      "metadata": {
        "colab": {
          "base_uri": "https://localhost:8080/"
        },
        "id": "qeCEIXYVosGV",
        "outputId": "1384ec14-27ee-49ac-9284-c8386463db4e"
      },
      "execution_count": 2,
      "outputs": [
        {
          "output_type": "stream",
          "name": "stdout",
          "text": [
            "Size of X:  (103, 9)\n",
            "Size of X_train:  (92, 9)\n",
            "Size of X_test:  (11, 9)\n",
            "   No  Cement   Slag  Fly ash  Water    SP  Coarse Aggr.  Fine Aggr.  \\\n",
            "0   1   273.0   82.0    105.0  210.0   9.0         904.0       680.0   \n",
            "1   2   163.0  149.0    191.0  180.0  12.0         843.0       746.0   \n",
            "2   3   162.0  148.0    191.0  179.0  16.0         840.0       743.0   \n",
            "3   4   162.0  148.0    190.0  179.0  19.0         838.0       741.0   \n",
            "4   5   154.0  112.0    144.0  220.0  10.0         923.0       658.0   \n",
            "\n",
            "   SLUMP(cm)  FLOW(cm)  Compressive Strength (28-day)(Mpa)  \n",
            "0       23.0      62.0                               34.99  \n",
            "1        0.0      20.0                               41.14  \n",
            "2        1.0      20.0                               41.81  \n",
            "3        3.0      21.5                               42.08  \n",
            "4       20.0      64.0                               26.82  \n"
          ]
        }
      ]
    },
    {
      "cell_type": "code",
      "source": [
        "automl = autosklearn.regression.AutoSklearnRegressor(\n",
        "    time_left_for_this_task=3600,\n",
        "    include={'regressor': [\"random_forest\"]},\n",
        "    ensemble_size=1,\n",
        "    resampling_strategy='cv',\n",
        "    resampling_strategy_arguments={'folds': 10},\n",
        "    memory_limit=None\n",
        ")\n",
        "automl.fit(X_train, y_train, dataset_name='concrete')\n",
        "\n"
      ],
      "metadata": {
        "colab": {
          "base_uri": "https://localhost:8080/"
        },
        "id": "j57wroAixeXU",
        "outputId": "cb866d21-fde8-43ce-8745-1b000307b2b0"
      },
      "execution_count": 17,
      "outputs": [
        {
          "output_type": "stream",
          "name": "stdout",
          "text": [
            "[WARNING] [2022-06-10 12:52:01,747:Client-AutoMLSMBO(1)::concrete] Configuration 197 not found\n",
            "[WARNING] [2022-06-10 12:52:01,747:Client-AutoMLSMBO(1)::concrete] Configuration 235 not found\n",
            "[WARNING] [2022-06-10 12:52:01,747:Client-AutoMLSMBO(1)::concrete] Configuration 270 not found\n",
            "[WARNING] [2022-06-10 12:52:01,747:Client-AutoMLSMBO(1)::concrete] Configuration 163 not found\n",
            "[WARNING] [2022-06-10 12:52:01,747:Client-AutoMLSMBO(1)::concrete] Configuration 67 not found\n",
            "[WARNING] [2022-06-10 12:52:01,748:Client-AutoMLSMBO(1)::concrete] Configuration 34 not found\n",
            "[WARNING] [2022-06-10 12:52:01,748:Client-AutoMLSMBO(1)::concrete] Configuration 86 not found\n",
            "[WARNING] [2022-06-10 12:52:01,748:Client-AutoMLSMBO(1)::concrete] Configuration 240 not found\n",
            "[WARNING] [2022-06-10 12:52:01,748:Client-AutoMLSMBO(1)::concrete] Configuration 245 not found\n",
            "[WARNING] [2022-06-10 12:52:01,748:Client-AutoMLSMBO(1)::concrete] Configuration 7 not found\n",
            "[WARNING] [2022-06-10 12:52:01,748:Client-AutoMLSMBO(1)::concrete] Configuration 282 not found\n",
            "[WARNING] [2022-06-10 12:52:01,748:Client-AutoMLSMBO(1)::concrete] Configuration 98 not found\n",
            "[WARNING] [2022-06-10 12:52:01,748:Client-AutoMLSMBO(1)::concrete] Configuration 138 not found\n",
            "[WARNING] [2022-06-10 12:52:01,748:Client-AutoMLSMBO(1)::concrete] Configuration 171 not found\n",
            "[WARNING] [2022-06-10 12:52:01,748:Client-AutoMLSMBO(1)::concrete] Configuration 237 not found\n",
            "[WARNING] [2022-06-10 12:52:01,748:Client-AutoMLSMBO(1)::concrete] Configuration 176 not found\n",
            "[WARNING] [2022-06-10 12:52:01,748:Client-AutoMLSMBO(1)::concrete] Configuration 262 not found\n",
            "[WARNING] [2022-06-10 12:52:01,748:Client-AutoMLSMBO(1)::concrete] Configuration 140 not found\n",
            "[WARNING] [2022-06-10 12:52:01,748:Client-AutoMLSMBO(1)::concrete] Configuration 58 not found\n",
            "[WARNING] [2022-06-10 12:52:01,749:Client-AutoMLSMBO(1)::concrete] Configuration 23 not found\n",
            "[WARNING] [2022-06-10 12:52:01,749:Client-AutoMLSMBO(1)::concrete] Configuration 266 not found\n",
            "[WARNING] [2022-06-10 12:52:01,749:Client-AutoMLSMBO(1)::concrete] Configuration 119 not found\n",
            "[WARNING] [2022-06-10 12:52:01,749:Client-AutoMLSMBO(1)::concrete] Configuration 17 not found\n",
            "[WARNING] [2022-06-10 12:52:01,749:Client-AutoMLSMBO(1)::concrete] Configuration 43 not found\n",
            "[WARNING] [2022-06-10 12:52:01,749:Client-AutoMLSMBO(1)::concrete] Configuration 258 not found\n",
            "[WARNING] [2022-06-10 12:52:01,749:Client-AutoMLSMBO(1)::concrete] Configuration 132 not found\n",
            "[WARNING] [2022-06-10 12:52:01,749:Client-AutoMLSMBO(1)::concrete] Configuration 117 not found\n",
            "[WARNING] [2022-06-10 12:52:01,749:Client-AutoMLSMBO(1)::concrete] Configuration 232 not found\n",
            "[WARNING] [2022-06-10 12:52:01,749:Client-AutoMLSMBO(1)::concrete] Configuration 268 not found\n",
            "[WARNING] [2022-06-10 12:52:01,749:Client-AutoMLSMBO(1)::concrete] Configuration 124 not found\n",
            "[WARNING] [2022-06-10 12:52:01,749:Client-AutoMLSMBO(1)::concrete] Configuration 247 not found\n",
            "[WARNING] [2022-06-10 12:52:01,749:Client-AutoMLSMBO(1)::concrete] Configuration 158 not found\n",
            "[WARNING] [2022-06-10 12:52:01,749:Client-AutoMLSMBO(1)::concrete] Configuration 2 not found\n",
            "[WARNING] [2022-06-10 12:52:01,749:Client-AutoMLSMBO(1)::concrete] Configuration 10 not found\n",
            "[WARNING] [2022-06-10 12:52:01,749:Client-AutoMLSMBO(1)::concrete] Configuration 191 not found\n",
            "[WARNING] [2022-06-10 12:52:01,749:Client-AutoMLSMBO(1)::concrete] Configuration 92 not found\n",
            "[WARNING] [2022-06-10 12:52:01,749:Client-AutoMLSMBO(1)::concrete] Configuration 40 not found\n",
            "[WARNING] [2022-06-10 12:52:01,749:Client-AutoMLSMBO(1)::concrete] Configuration 276 not found\n",
            "[WARNING] [2022-06-10 12:52:01,751:Client-AutoMLSMBO(1)::concrete] Configuration 186 not found\n",
            "[WARNING] [2022-06-10 12:52:01,751:Client-AutoMLSMBO(1)::concrete] Configuration 26 not found\n",
            "[WARNING] [2022-06-10 12:52:01,751:Client-AutoMLSMBO(1)::concrete] Configuration 79 not found\n",
            "[WARNING] [2022-06-10 12:52:01,751:Client-AutoMLSMBO(1)::concrete] Configuration 19 not found\n",
            "[WARNING] [2022-06-10 12:52:01,751:Client-AutoMLSMBO(1)::concrete] Configuration 115 not found\n",
            "[WARNING] [2022-06-10 12:52:01,751:Client-AutoMLSMBO(1)::concrete] Configuration 184 not found\n",
            "[WARNING] [2022-06-10 12:52:01,751:Client-AutoMLSMBO(1)::concrete] Configuration 28 not found\n",
            "[WARNING] [2022-06-10 12:52:01,752:Client-AutoMLSMBO(1)::concrete] Configuration 174 not found\n",
            "[WARNING] [2022-06-10 12:52:01,752:Client-AutoMLSMBO(1)::concrete] Configuration 150 not found\n",
            "[WARNING] [2022-06-10 12:52:01,752:Client-AutoMLSMBO(1)::concrete] Configuration 73 not found\n",
            "[WARNING] [2022-06-10 12:52:01,752:Client-AutoMLSMBO(1)::concrete] Configuration 13 not found\n",
            "[WARNING] [2022-06-10 12:52:01,752:Client-AutoMLSMBO(1)::concrete] Configuration 54 not found\n",
            "[WARNING] [2022-06-10 12:52:01,752:Client-AutoMLSMBO(1)::concrete] Configuration 95 not found\n",
            "[WARNING] [2022-06-10 12:52:01,752:Client-AutoMLSMBO(1)::concrete] Configuration 279 not found\n",
            "[WARNING] [2022-06-10 12:52:01,752:Client-AutoMLSMBO(1)::concrete] Configuration 6 not found\n",
            "[WARNING] [2022-06-10 12:52:01,752:Client-AutoMLSMBO(1)::concrete] Configuration 257 not found\n",
            "[WARNING] [2022-06-10 12:52:01,752:Client-AutoMLSMBO(1)::concrete] Configuration 214 not found\n",
            "[WARNING] [2022-06-10 12:52:01,753:Client-AutoMLSMBO(1)::concrete] Configuration 126 not found\n",
            "[WARNING] [2022-06-10 12:52:01,753:Client-AutoMLSMBO(1)::concrete] Configuration 89 not found\n",
            "[WARNING] [2022-06-10 12:52:01,753:Client-AutoMLSMBO(1)::concrete] Configuration 199 not found\n",
            "[WARNING] [2022-06-10 12:52:01,753:Client-AutoMLSMBO(1)::concrete] Configuration 225 not found\n",
            "[WARNING] [2022-06-10 12:52:01,753:Client-AutoMLSMBO(1)::concrete] Configuration 107 not found\n",
            "[WARNING] [2022-06-10 12:52:01,753:Client-AutoMLSMBO(1)::concrete] Configuration 102 not found\n",
            "[WARNING] [2022-06-10 12:52:01,753:Client-AutoMLSMBO(1)::concrete] Configuration 82 not found\n",
            "[WARNING] [2022-06-10 12:52:01,753:Client-AutoMLSMBO(1)::concrete] Configuration 66 not found\n",
            "[WARNING] [2022-06-10 12:52:01,753:Client-AutoMLSMBO(1)::concrete] Configuration 156 not found\n",
            "[WARNING] [2022-06-10 12:52:01,753:Client-AutoMLSMBO(1)::concrete] Configuration 31 not found\n",
            "[WARNING] [2022-06-10 12:52:01,754:Client-AutoMLSMBO(1)::concrete] Configuration 207 not found\n",
            "[WARNING] [2022-06-10 12:52:01,754:Client-AutoMLSMBO(1)::concrete] Configuration 101 not found\n",
            "[WARNING] [2022-06-10 12:52:01,756:Client-AutoMLSMBO(1)::concrete] Configuration 63 not found\n",
            "[WARNING] [2022-06-10 12:52:01,757:Client-AutoMLSMBO(1)::concrete] Configuration 182 not found\n",
            "[WARNING] [2022-06-10 12:52:01,757:Client-AutoMLSMBO(1)::concrete] Configuration 201 not found\n",
            "[WARNING] [2022-06-10 12:52:01,757:Client-AutoMLSMBO(1)::concrete] Configuration 274 not found\n",
            "[WARNING] [2022-06-10 12:52:01,757:Client-AutoMLSMBO(1)::concrete] Configuration 160 not found\n",
            "[WARNING] [2022-06-10 12:52:01,757:Client-AutoMLSMBO(1)::concrete] Configuration 211 not found\n",
            "[WARNING] [2022-06-10 12:52:01,757:Client-AutoMLSMBO(1)::concrete] Configuration 48 not found\n",
            "[WARNING] [2022-06-10 12:52:01,757:Client-AutoMLSMBO(1)::concrete] Configuration 224 not found\n",
            "[WARNING] [2022-06-10 12:52:01,757:Client-AutoMLSMBO(1)::concrete] Configuration 285 not found\n",
            "[WARNING] [2022-06-10 12:52:01,758:Client-AutoMLSMBO(1)::concrete] Configuration 193 not found\n",
            "[WARNING] [2022-06-10 12:52:01,760:Client-AutoMLSMBO(1)::concrete] Configuration 144 not found\n",
            "[WARNING] [2022-06-10 12:52:01,760:Client-AutoMLSMBO(1)::concrete] Configuration 105 not found\n",
            "[WARNING] [2022-06-10 12:52:01,760:Client-AutoMLSMBO(1)::concrete] Configuration 252 not found\n",
            "[WARNING] [2022-06-10 12:52:01,760:Client-AutoMLSMBO(1)::concrete] Configuration 128 not found\n",
            "[WARNING] [2022-06-10 12:52:01,760:Client-AutoMLSMBO(1)::concrete] Configuration 251 not found\n",
            "[WARNING] [2022-06-10 12:52:01,760:Client-AutoMLSMBO(1)::concrete] Configuration 148 not found\n",
            "[WARNING] [2022-06-10 12:52:01,760:Client-AutoMLSMBO(1)::concrete] Configuration 136 not found\n",
            "[WARNING] [2022-06-10 12:52:01,768:Client-AutoMLSMBO(1)::concrete] Configuration 153 not found\n",
            "[WARNING] [2022-06-10 12:52:01,769:Client-AutoMLSMBO(1)::concrete] Configuration 50 not found\n",
            "[WARNING] [2022-06-10 12:52:01,770:Client-AutoMLSMBO(1)::concrete] Configuration 228 not found\n",
            "[WARNING] [2022-06-10 12:52:01,770:Client-AutoMLSMBO(1)::concrete] Configuration 179 not found\n",
            "[WARNING] [2022-06-10 12:52:01,770:Client-AutoMLSMBO(1)::concrete] Configuration 110 not found\n",
            "[WARNING] [2022-06-10 12:52:01,770:Client-AutoMLSMBO(1)::concrete] Configuration 204 not found\n"
          ]
        },
        {
          "output_type": "execute_result",
          "data": {
            "text/plain": [
              "AutoSklearnRegressor(ensemble_size=1, include={'regressor': ['random_forest']},\n",
              "                     memory_limit=None, per_run_time_limit=360,\n",
              "                     resampling_strategy='cv',\n",
              "                     resampling_strategy_arguments={'folds': 10})"
            ]
          },
          "metadata": {},
          "execution_count": 17
        }
      ]
    },
    {
      "cell_type": "code",
      "source": [
        "print(automl.leaderboard())\n",
        "train_predictions = automl.predict(X_train)\n",
        "print(\"Train R2 score:\", sklearn.metrics.r2_score(y_train, train_predictions))\n",
        "test_predictions = automl.predict(X_test)\n",
        "print(\"Test R2 score:\", sklearn.metrics.r2_score(y_test, test_predictions))"
      ],
      "metadata": {
        "colab": {
          "base_uri": "https://localhost:8080/"
        },
        "id": "U_wmG_p0yXpE",
        "outputId": "797c0c3e-d627-4262-cbee-d241737761b3"
      },
      "execution_count": 18,
      "outputs": [
        {
          "output_type": "stream",
          "name": "stdout",
          "text": [
            "          rank  ensemble_weight           type      cost   duration\n",
            "model_id                                                           \n",
            "207          1              1.0  random_forest  0.222422  13.896882\n",
            "Train R2 score: 0.9620906640613108\n",
            "Test R2 score: 0.9348426592972174\n"
          ]
        }
      ]
    }
  ]
}
