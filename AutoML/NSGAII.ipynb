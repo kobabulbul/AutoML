{
  "nbformat": 4,
  "nbformat_minor": 0,
  "metadata": {
    "colab": {
      "name": "NSGAII.ipynb",
      "provenance": [],
      "authorship_tag": "ABX9TyPZxE8NgJUT65qYNK28vnS6"
    },
    "kernelspec": {
      "name": "python3",
      "display_name": "Python 3"
    },
    "language_info": {
      "name": "python"
    },
    "accelerator": "GPU"
  },
  "cells": [
    {
      "cell_type": "code",
      "execution_count": null,
      "metadata": {
        "colab": {
          "base_uri": "https://localhost:8080/"
        },
        "id": "lFTIeM6wLB0n",
        "outputId": "84003589-162a-42cd-f42b-fe16f2d6b88d",
        "collapsed": true
      },
      "outputs": [
        {
          "output_type": "stream",
          "name": "stdout",
          "text": [
            "Collecting pymoo\n",
            "  Downloading pymoo-0.5.0-cp37-cp37m-manylinux_2_5_x86_64.manylinux1_x86_64.manylinux_2_12_x86_64.manylinux2010_x86_64.whl (2.5 MB)\n",
            "\u001b[K     |████████████████████████████████| 2.5 MB 32.3 MB/s \n",
            "\u001b[?25hRequirement already satisfied: numpy>=1.15 in /usr/local/lib/python3.7/dist-packages (from pymoo) (1.21.6)\n",
            "Requirement already satisfied: matplotlib>=3 in /usr/local/lib/python3.7/dist-packages (from pymoo) (3.2.2)\n",
            "Requirement already satisfied: scipy>=1.1 in /usr/local/lib/python3.7/dist-packages (from pymoo) (1.4.1)\n",
            "Collecting cma==2.7\n",
            "  Downloading cma-2.7.0-py2.py3-none-any.whl (239 kB)\n",
            "\u001b[K     |████████████████████████████████| 239 kB 65.6 MB/s \n",
            "\u001b[?25hRequirement already satisfied: autograd>=1.3 in /usr/local/lib/python3.7/dist-packages (from pymoo) (1.4)\n",
            "Requirement already satisfied: future>=0.15.2 in /usr/local/lib/python3.7/dist-packages (from autograd>=1.3->pymoo) (0.16.0)\n",
            "Requirement already satisfied: pyparsing!=2.0.4,!=2.1.2,!=2.1.6,>=2.0.1 in /usr/local/lib/python3.7/dist-packages (from matplotlib>=3->pymoo) (3.0.8)\n",
            "Requirement already satisfied: kiwisolver>=1.0.1 in /usr/local/lib/python3.7/dist-packages (from matplotlib>=3->pymoo) (1.4.2)\n",
            "Requirement already satisfied: cycler>=0.10 in /usr/local/lib/python3.7/dist-packages (from matplotlib>=3->pymoo) (0.11.0)\n",
            "Requirement already satisfied: python-dateutil>=2.1 in /usr/local/lib/python3.7/dist-packages (from matplotlib>=3->pymoo) (2.8.2)\n",
            "Requirement already satisfied: typing-extensions in /usr/local/lib/python3.7/dist-packages (from kiwisolver>=1.0.1->matplotlib>=3->pymoo) (4.1.1)\n",
            "Requirement already satisfied: six>=1.5 in /usr/local/lib/python3.7/dist-packages (from python-dateutil>=2.1->matplotlib>=3->pymoo) (1.15.0)\n",
            "Installing collected packages: cma, pymoo\n",
            "Successfully installed cma-2.7.0 pymoo-0.5.0\n"
          ]
        }
      ],
      "source": [
        "# install pymoo for NSGA II\n",
        "!pip install pymoo"
      ]
    },
    {
      "cell_type": "markdown",
      "source": [
        "![grafik.png](data:image/png;base64,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)"
      ],
      "metadata": {
        "id": "UUeLvPyXPYiC"
      }
    },
    {
      "cell_type": "markdown",
      "source": [
        "This is the Tutorial from https://pymoo.org/getting_started/preface.html"
      ],
      "metadata": {
        "id": "T8SFeQ3VmAdn"
      }
    },
    {
      "cell_type": "code",
      "source": [
        "# implement a problem\n",
        "import numpy as np\n",
        "from pymoo.core.problem import ElementwiseProblem # one of three possible ways to implement a problem. Means that the _evaluate function is called for each solution x at a time\n",
        "\n",
        "class MyProblem(ElementwiseProblem):\n",
        "\n",
        "    def __init__(self):\n",
        "        super().__init__(n_var=2,\n",
        "                         n_obj=2, # number of objectives: min f_1 and f_2\n",
        "                         n_constr=2, # number of constraints\n",
        "                         xl=np.array([-2,-2]), # lower bound\n",
        "                         xu=np.array([2,2])) # upper bound\n",
        "\n",
        "    def _evaluate(self, x, out, *args, **kwargs): # function responsible for the evaluation\n",
        "        f1 = 100 * (x[0]**2 + x[1]**2)\n",
        "        f2 = (x[0]-1)**2 + x[1]**2\n",
        "\n",
        "        g1 = 2*(x[0]-0.1) * (x[0]-0.9) / 0.18\n",
        "        g2 = - 20*(x[0]-0.4) * (x[0]-0.6) / 4.8\n",
        "\n",
        "        out[\"F\"] = [f1, f2] # output is supposed to be written as dictionary. Should be written as list of numpy arrays of length of number of objectives\n",
        "        out[\"G\"] = [g1, g2] # should be written as list of numpy arrays of length of number of constraints\n",
        "\n",
        "\n",
        "problem = MyProblem()"
      ],
      "metadata": {
        "id": "-kSfAUXQPYVu"
      },
      "execution_count": null,
      "outputs": []
    },
    {
      "cell_type": "code",
      "source": [
        "# initialize the algorithm\n",
        "from pymoo.algorithms.moo.nsga2 import NSGA2\n",
        "from pymoo.factory import get_sampling, get_crossover, get_mutation\n",
        "\n",
        "algorithm = NSGA2(\n",
        "    pop_size=40,\n",
        "    n_offsprings=10,\n",
        "    sampling=get_sampling(\"real_random\"),\n",
        "    crossover=get_crossover(\"real_sbx\", prob=0.9, eta=15),\n",
        "    mutation=get_mutation(\"real_pm\", eta=20),\n",
        "    eliminate_duplicates=True\n",
        ")\n",
        "# termination criterion\n",
        "\n",
        "from pymoo.factory import get_termination\n",
        "\n",
        "termination = get_termination(\"n_gen\", 40) # terminate after 40 iterations of the algorithm"
      ],
      "metadata": {
        "id": "IZx3AeQQRT7h"
      },
      "execution_count": null,
      "outputs": []
    },
    {
      "cell_type": "code",
      "source": [
        "# Optimize\n",
        "\n",
        "from pymoo.optimize import minimize\n",
        "\n",
        "res = minimize(problem, \n",
        "               algorithm,\n",
        "               termination,\n",
        "               seed=1,\n",
        "               save_history=True,\n",
        "               verbose=True)\n",
        "\n",
        "X = res.X # minimize returns result objects\n",
        "F = res.F\n",
        "\n",
        "# verbose = True provides some printouts. Each line represents one iteration. n_gen: Number of generation, n_eval: number of evaluations, \n",
        "# cv(min), cv(avg): min. constraint violation and avg. constraint violation\n",
        "# n_nds: number of non-dominated solutions (our solutions!), eps, indicator: movement in the search space"
      ],
      "metadata": {
        "colab": {
          "base_uri": "https://localhost:8080/"
        },
        "id": "UzPYXss-SBQ0",
        "outputId": "1fa4d2d7-e31b-4a48-8c42-762619f11e75",
        "collapsed": true
      },
      "execution_count": null,
      "outputs": [
        {
          "output_type": "stream",
          "name": "stdout",
          "text": [
            "=====================================================================================\n",
            "n_gen |  n_eval |   cv (min)   |   cv (avg)   |  n_nds  |     eps      |  indicator  \n",
            "=====================================================================================\n",
            "    1 |      40 |  0.00000E+00 |  2.36399E+01 |       1 |            - |            -\n",
            "    2 |      50 |  0.00000E+00 |  1.15486E+01 |       1 |  0.00000E+00 |            f\n",
            "    3 |      60 |  0.00000E+00 |  5.277918607 |       1 |  0.00000E+00 |            f\n",
            "    4 |      70 |  0.00000E+00 |  2.406068542 |       2 |  1.000000000 |        ideal\n",
            "    5 |      80 |  0.00000E+00 |  0.908316880 |       3 |  0.869706146 |        ideal\n",
            "    6 |      90 |  0.00000E+00 |  0.264746300 |       3 |  0.00000E+00 |            f\n",
            "    7 |     100 |  0.00000E+00 |  0.054063822 |       4 |  0.023775686 |        ideal\n",
            "    8 |     110 |  0.00000E+00 |  0.003060876 |       5 |  0.127815454 |        ideal\n",
            "    9 |     120 |  0.00000E+00 |  0.00000E+00 |       6 |  0.085921728 |        ideal\n",
            "   10 |     130 |  0.00000E+00 |  0.00000E+00 |       7 |  0.015715204 |            f\n",
            "   11 |     140 |  0.00000E+00 |  0.00000E+00 |       8 |  0.015076323 |            f\n",
            "   12 |     150 |  0.00000E+00 |  0.00000E+00 |       7 |  0.026135665 |            f\n",
            "   13 |     160 |  0.00000E+00 |  0.00000E+00 |      10 |  0.010026699 |            f\n",
            "   14 |     170 |  0.00000E+00 |  0.00000E+00 |      11 |  0.011833783 |            f\n",
            "   15 |     180 |  0.00000E+00 |  0.00000E+00 |      12 |  0.008294035 |            f\n",
            "   16 |     190 |  0.00000E+00 |  0.00000E+00 |      14 |  0.006095993 |        ideal\n",
            "   17 |     200 |  0.00000E+00 |  0.00000E+00 |      17 |  0.002510398 |        ideal\n",
            "   18 |     210 |  0.00000E+00 |  0.00000E+00 |      20 |  0.003652660 |            f\n",
            "   19 |     220 |  0.00000E+00 |  0.00000E+00 |      20 |  0.010131820 |        nadir\n",
            "   20 |     230 |  0.00000E+00 |  0.00000E+00 |      21 |  0.005676014 |            f\n",
            "   21 |     240 |  0.00000E+00 |  0.00000E+00 |      25 |  0.010464402 |            f\n",
            "   22 |     250 |  0.00000E+00 |  0.00000E+00 |      25 |  0.000547515 |            f\n",
            "   23 |     260 |  0.00000E+00 |  0.00000E+00 |      28 |  0.001050255 |            f\n",
            "   24 |     270 |  0.00000E+00 |  0.00000E+00 |      33 |  0.003841298 |            f\n",
            "   25 |     280 |  0.00000E+00 |  0.00000E+00 |      37 |  0.006664377 |        nadir\n",
            "   26 |     290 |  0.00000E+00 |  0.00000E+00 |      40 |  0.000963164 |            f\n",
            "   27 |     300 |  0.00000E+00 |  0.00000E+00 |      40 |  0.000678243 |            f\n",
            "   28 |     310 |  0.00000E+00 |  0.00000E+00 |      40 |  0.000815766 |            f\n",
            "   29 |     320 |  0.00000E+00 |  0.00000E+00 |      40 |  0.001500814 |            f\n",
            "   30 |     330 |  0.00000E+00 |  0.00000E+00 |      40 |  0.014706442 |        nadir\n",
            "   31 |     340 |  0.00000E+00 |  0.00000E+00 |      40 |  0.003554320 |        ideal\n",
            "   32 |     350 |  0.00000E+00 |  0.00000E+00 |      40 |  0.000624123 |            f\n",
            "   33 |     360 |  0.00000E+00 |  0.00000E+00 |      40 |  0.000203925 |            f\n",
            "   34 |     370 |  0.00000E+00 |  0.00000E+00 |      40 |  0.001048509 |            f\n",
            "   35 |     380 |  0.00000E+00 |  0.00000E+00 |      40 |  0.001121103 |            f\n",
            "   36 |     390 |  0.00000E+00 |  0.00000E+00 |      40 |  0.000664461 |            f\n",
            "   37 |     400 |  0.00000E+00 |  0.00000E+00 |      40 |  0.000761066 |            f\n",
            "   38 |     410 |  0.00000E+00 |  0.00000E+00 |      40 |  0.000521906 |            f\n",
            "   39 |     420 |  0.00000E+00 |  0.00000E+00 |      40 |  0.004652095 |        nadir\n",
            "   40 |     430 |  0.00000E+00 |  0.00000E+00 |      40 |  0.000287847 |            f\n"
          ]
        }
      ]
    },
    {
      "cell_type": "code",
      "source": [
        "# Visualize Solutions\n",
        "import matplotlib.pyplot as plt\n",
        "\n",
        "xl, xu = problem.bounds() # values from problem-class\n",
        "plt.figure(figsize=(7, 5))\n",
        "plt.scatter(X[:, 0], X[:, 1], s=30, facecolors='none', edgecolors='r')\n",
        "plt.xlim(xl[0], xu[0])\n",
        "plt.ylim(xl[1], xu[1])\n",
        "plt.title(\"Design Space\")\n",
        "plt.show()\n",
        "\n"
      ],
      "metadata": {
        "id": "Jdmd16PrTbud"
      },
      "execution_count": null,
      "outputs": []
    },
    {
      "cell_type": "code",
      "source": [
        "plt.figure(figsize=(7, 5))\n",
        "plt.scatter(F[:, 0], F[:, 1], s=30, facecolors='none', edgecolors='blue')\n",
        "plt.title(\"Objective Space\")\n",
        "plt.show()"
      ],
      "metadata": {
        "id": "FzomhvreTuHW"
      },
      "execution_count": null,
      "outputs": []
    },
    {
      "cell_type": "markdown",
      "source": [
        "Decision Making Process"
      ],
      "metadata": {
        "id": "ay7AEUuWVqxz"
      }
    },
    {
      "cell_type": "code",
      "source": [
        "# We have obtained 40 Solutions. How can we choose a set of solutions or, if possible, the best solution?\n",
        "# => Multi-Criteria Decision Making (decision making process for multi-objective problems)\n",
        "\n",
        "\n",
        "# pareto-optimal solutions obtained from the optimization procedure are given by\n",
        "F = res.F\n",
        "xl, xu = problem.bounds()\n",
        "plt.figure(figsize=(7, 5))\n",
        "plt.scatter(F[:, 0], F[:, 1], s=30, facecolors='none', edgecolors='blue')\n",
        "plt.title(\"Objective Space\")\n",
        "plt.show()"
      ],
      "metadata": {
        "id": "EDk73ez1UmPt"
      },
      "execution_count": null,
      "outputs": []
    },
    {
      "cell_type": "markdown",
      "source": [
        "# Random Forest + NSGAII: Find out optimal max_depth"
      ],
      "metadata": {
        "id": "4llAqDYLXmyn"
      }
    },
    {
      "cell_type": "code",
      "source": [
        "import sklearn.datasets\n",
        "import sklearn.metrics\n",
        "import sklearn.model_selection\n",
        "import sklearn.ensemble\n",
        "\n",
        "\n",
        "# Use Sklearn Dataset\n",
        "X, y = sklearn.datasets.load_breast_cancer(return_X_y=True)\n",
        "X_train, X_test, y_train, y_test = \\\n",
        "    sklearn.model_selection.train_test_split(X, y,random_state=1)\n",
        "\n",
        "print(X_train.shape, X_test.shape) # y is binary: 0 or 1\n",
        "\n",
        "rfc = sklearn.ensemble.RandomForestRegressor(max_depth = 29, random_state = 0)\n",
        "rfc.fit(X_train, y_train)\n",
        "print(sklearn.metrics.mean_squared_error(y_test, rfc.predict(X_test)))\n"
      ],
      "metadata": {
        "id": "YQf1fszjVRdb"
      },
      "execution_count": null,
      "outputs": []
    },
    {
      "cell_type": "code",
      "source": [
        "# implement a problem\n",
        "import numpy as np\n",
        "from pymoo.core.problem import ElementwiseProblem # one of three possible ways to implement a problem. Means that the _evaluate function is called for each solution x at a time\n",
        "\n",
        "class MyProblem(ElementwiseProblem):\n",
        "\n",
        "    def __init__(self):\n",
        "        super().__init__(n_var=2,\n",
        "                         n_obj=1, # number of objectives: min f_1 and f_2\n",
        "                         n_constr=0, # number of constraints\n",
        "                         xl=np.array([1, 1]), # lower bound\n",
        "                         xu=np.array([300, 29])) # upper bound\n",
        "\n",
        "    def _evaluate(self, x, out, *args, **kwargs):\n",
        "        rfc = sklearn.ensemble.RandomForestClassifier(n_estimators = x[0], max_depth = x[1], random_state = 0)\n",
        "        rfc.fit(X_train, y_train)\n",
        "        y_pred = rfc.predict(X_test)\n",
        "        #mse = sklearn.metrics.mean_squared_error(y_test, y_pred) #randomforestregressor.score is R^2 value. Which want to we want to minimize?\n",
        "        score = 1-rfc.score(X_test, y_test)\n",
        "\n",
        "        out[\"F\"] = [score] # output is supposed to be written as dictionary. Should be written as list of numpy arrays of length of number of objectives\n",
        "\n",
        "problem = MyProblem()"
      ],
      "metadata": {
        "id": "6ubvEMd-Z2vH"
      },
      "execution_count": null,
      "outputs": []
    },
    {
      "cell_type": "code",
      "source": [
        "# initialize the algorithm. pymoo was mainly made for continious problems. but it's possible to use it for discrete variables too\n",
        "algorithm = NSGA2(\n",
        "    pop_size=500,\n",
        "    n_offsprings=40,\n",
        "    sampling=get_sampling(\"int_random\"),\n",
        "    crossover=get_crossover(\"int_sbx\"),\n",
        "    mutation=get_mutation(\"int_pm\"),\n",
        "    eliminate_duplicates=True\n",
        ")\n",
        "# termination criterion\n",
        "\n",
        "from pymoo.factory import get_termination\n",
        "\n",
        "termination = get_termination(\"n_gen\", 200) # terminate after 40 iterations of the algorithm"
      ],
      "metadata": {
        "id": "fYapVFGHa5--"
      },
      "execution_count": null,
      "outputs": []
    },
    {
      "cell_type": "code",
      "source": [
        "import time\n",
        "start_time = time.time()\n",
        "res = minimize(problem, \n",
        "               algorithm,\n",
        "               termination,\n",
        "               seed=1,\n",
        "               save_history=True,\n",
        "               verbose=True)\n",
        "end_time = time.time()\n",
        "\n",
        "print(\"Time: \", (end_time-start_time)/60, \"min\")\n",
        "\n",
        "X_ = res.X # minimize returns result objects\n",
        "F_ = res.F"
      ],
      "metadata": {
        "id": "v6sVF8SXboKd"
      },
      "execution_count": null,
      "outputs": []
    },
    {
      "cell_type": "code",
      "source": [
        "# Visualize Solutions\n",
        "import matplotlib.pyplot as plt\n",
        "\n",
        "xl, xu = problem.bounds() # values from problem-class\n",
        "plt.figure(figsize=(7, 5))\n",
        "plt.scatter(X_[:, 0], X_[:, 1], s=30, facecolors='none', edgecolors='r')\n",
        "plt.xlim(xl[0], xu[0])\n",
        "plt.ylim(xl[1], xu[1])\n",
        "plt.title(\"Design Space\")\n",
        "plt.show()\n"
      ],
      "metadata": {
        "id": "MISQr2BjiDOl"
      },
      "execution_count": null,
      "outputs": []
    },
    {
      "cell_type": "code",
      "source": [
        "# test solutions\n",
        "rfc_list = []\n",
        "for i in range(X_.shape[0]):\n",
        "  rfc = sklearn.ensemble.RandomForestRegressor(n_estimators = X_[i][0], max_depth = X_[i][1], random_state = 0)\n",
        "  rfc.fit(X_train, y_train)\n",
        "  #print(sklearn.metrics.mean_squared_error(y_test, rfc.predict(X_test)))\n",
        "  print(rfc.score(X_test, y_test))\n",
        "  rfc_list.append(rfc.score(X_test, y_test))\n",
        "print(\"Position: \", rfc_list.index(max(rfc_list)), \"Value; \", max(rfc_list), \"Parameters:\", X_[rfc_list.index(max(rfc_list)),:])"
      ],
      "metadata": {
        "id": "-Vm4SXDjioK6"
      },
      "execution_count": null,
      "outputs": []
    },
    {
      "cell_type": "code",
      "source": [
        "rfc = sklearn.ensemble.RandomForestRegressor(n_estimators = 100, max_depth = 10, random_state = 0)\n",
        "rfc.fit(X_train, y_train)\n",
        "#print(sklearn.metrics.mean_squared_error(y_test, rfc.predict(X_test)))\n",
        "rfc.score(X_test, y_test)\n"
      ],
      "metadata": {
        "id": "oINmsgR9mWs3"
      },
      "execution_count": null,
      "outputs": []
    }
  ]
}
