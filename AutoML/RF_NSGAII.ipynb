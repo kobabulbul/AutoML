{
  "nbformat": 4,
  "nbformat_minor": 0,
  "metadata": {
    "colab": {
      "name": "RF_NSGAII.ipynb",
      "provenance": [],
      "mount_file_id": "1d0ezkPj3amN10Y8VQCX-v-U-1f635FoZ",
      "authorship_tag": "ABX9TyMj3zPpA2CVRc7G6vp3U/p0",
      "include_colab_link": true
    },
    "kernelspec": {
      "name": "python3",
      "display_name": "Python 3"
    },
    "language_info": {
      "name": "python"
    }
  },
  "cells": [
    {
      "cell_type": "markdown",
      "metadata": {
        "id": "view-in-github",
        "colab_type": "text"
      },
      "source": [
        "<a href=\"https://colab.research.google.com/github/koba341/AutoML/blob/main/RF_NSGAII.ipynb\" target=\"_parent\"><img src=\"https://colab.research.google.com/assets/colab-badge.svg\" alt=\"Open In Colab\"/></a>"
      ]
    },
    {
      "cell_type": "markdown",
      "source": [
        "# Summary"
      ],
      "metadata": {
        "id": "7s2uK5qgzKSf"
      }
    },
    {
      "cell_type": "code",
      "source": [
        "print('Manually tuned Random Forest R2 on Testset: ', rfr.score(X_test, y_test))\n",
        "print('Manually tuned Random Forest CV: ', scores, 'Mean: ', sum(scores)/10)\n",
        "print('NSGA2+RF R2 on Testset: ', rfr_nsga2.score(X_test, y_test))\n",
        "print('NSGA2+RF CV: ', cross_val_score(rfr_nsga2, X_train, y_train, cv=10), 'Mean: ', sum(cross_val_score(rfr_nsga2, X_train, y_train, cv=10))/10)"
      ],
      "metadata": {
        "colab": {
          "base_uri": "https://localhost:8080/"
        },
        "id": "x_UobUkizR1B",
        "outputId": "82d139b0-65fc-41bc-f917-613fe6769a14"
      },
      "execution_count": 68,
      "outputs": [
        {
          "output_type": "stream",
          "name": "stdout",
          "text": [
            "Manually tuned Random Forest R2 on Testset:  0.93690770347663\n",
            "Manually tuned Random Forest CV:  [0.74846417 0.86161926 0.85131862 0.74472037 0.66573246 0.81449942\n",
            " 0.63027282 0.78725852 0.86241726 0.2283725 ] Mean:  0.7194675393179206\n",
            "NSGA2+RF R2 on Testset:  0.9288816767105856\n",
            "NSGA2+RF CV:  [0.75906659 0.89094697 0.87915517 0.78182392 0.65967713 0.75128555\n",
            " 0.72591799 0.77943598 0.84684182 0.22024594] Mean:  0.7245013939684533\n"
          ]
        }
      ]
    },
    {
      "cell_type": "markdown",
      "source": [
        "Import, dataset etc.."
      ],
      "metadata": {
        "id": "Slhl14_E8izI"
      }
    },
    {
      "cell_type": "code",
      "execution_count": null,
      "metadata": {
        "id": "grpIX7_xcGei"
      },
      "outputs": [],
      "source": [
        "# install pymoo for NSGA II\n",
        "!pip install pymoo\n",
        "# implement a problem\n",
        "import numpy as np\n",
        "from pymoo.core.problem import ElementwiseProblem # one of three possible ways to implement a problem. Means that the _evaluate function is called for each solution x at a time\n",
        "# initialize the algorithm\n",
        "from pymoo.algorithms.moo.nsga2 import NSGA2\n",
        "from pymoo.factory import get_sampling, get_crossover, get_mutation\n",
        "from pymoo.factory import get_termination\n",
        "from pymoo.optimize import minimize\n",
        "import matplotlib.pyplot as plt"
      ]
    },
    {
      "cell_type": "code",
      "source": [
        "import sklearn.datasets\n",
        "import sklearn.metrics\n",
        "import sklearn.model_selection\n",
        "import sklearn.ensemble\n",
        "import pandas as pd"
      ],
      "metadata": {
        "id": "PtnUU4NYcUp3"
      },
      "execution_count": 6,
      "outputs": []
    },
    {
      "cell_type": "code",
      "source": [
        "#import the data set\n",
        "data = pd.read_csv(\"/content/drive/MyDrive/Colab Notebooks/AutoML/slump_test.csv\")\n",
        "X = data.iloc[:, 1:10].to_numpy()\n",
        "y = data.iloc[:, 10].to_numpy()\n",
        "\n",
        "\n",
        "X_train, X_test, y_train, y_test = \\\n",
        "    sklearn.model_selection.train_test_split(X, y, train_size=0.90,random_state=1) # create training and test dataset. \n",
        "\n",
        "# print some information\n",
        "print('Size of X: ', X.shape)\n",
        "print('Size of X_train: ', X_train.shape)\n",
        "print('Size of X_test: ', X_test.shape)"
      ],
      "metadata": {
        "colab": {
          "base_uri": "https://localhost:8080/"
        },
        "id": "qLejYbx_cXMJ",
        "outputId": "ec50cdba-6ea8-478a-83e2-28c2e8f5be41"
      },
      "execution_count": 41,
      "outputs": [
        {
          "output_type": "stream",
          "name": "stdout",
          "text": [
            "Size of X:  (103, 9)\n",
            "Size of X_train:  (92, 9)\n",
            "Size of X_test:  (11, 9)\n"
          ]
        }
      ]
    },
    {
      "cell_type": "markdown",
      "source": [
        "# RF"
      ],
      "metadata": {
        "id": "L_X6O0G28biw"
      }
    },
    {
      "cell_type": "code",
      "source": [
        "from sklearn.model_selection import cross_val_score\n",
        "rfr = sklearn.ensemble.RandomForestRegressor(max_depth = 9, random_state = 0)\n",
        "rfr.fit(X_train, y_train)\n",
        "print('R2: ', rfr.score(X_test, y_test))\n",
        "scores = cross_val_score(rfr, X_train, y_train, cv=10)"
      ],
      "metadata": {
        "colab": {
          "base_uri": "https://localhost:8080/"
        },
        "id": "A0Ccroaqc9b2",
        "outputId": "c9c8b6d4-a54b-4572-b9b4-188f3a318dbd"
      },
      "execution_count": 29,
      "outputs": [
        {
          "output_type": "stream",
          "name": "stdout",
          "text": [
            "R2:  0.93690770347663\n"
          ]
        }
      ]
    },
    {
      "cell_type": "markdown",
      "source": [
        "# RF + NSGA II"
      ],
      "metadata": {
        "id": "y-nmygBK8ej5"
      }
    },
    {
      "cell_type": "code",
      "source": [
        "class MyProblem(ElementwiseProblem):\n",
        "\n",
        "    def __init__(self):\n",
        "        super().__init__(n_var=2,\n",
        "                         n_obj=1, # number of objectives: min f_1\n",
        "                         n_constr=0, # number of constraints\n",
        "                         xl=np.array([1, 1]), # lower bound\n",
        "                         xu=np.array([300, 9])) # upper bound\n",
        "\n",
        "    def _evaluate(self, x, out, *args, **kwargs):\n",
        "        rfr = sklearn.ensemble.RandomForestRegressor(n_estimators = x[0], max_depth = x[1], random_state = 0)\n",
        "        scores = cross_val_score(rfr, X_train, y_train, cv=10)\n",
        "        to_min = 1-max(scores)\n",
        "\n",
        "        out[\"F\"] = [to_min] # output is supposed to be written as dictionary. Should be written as list of numpy arrays of length of number of objectives\n",
        "\n",
        "problem = MyProblem()"
      ],
      "metadata": {
        "id": "x0N6voKOdeYn"
      },
      "execution_count": 56,
      "outputs": []
    },
    {
      "cell_type": "code",
      "source": [
        "# initialize the algorithm. pymoo was mainly made for continious problems. but it's possible to use it for discrete variables too\n",
        "algorithm = NSGA2(\n",
        "    pop_size=100,\n",
        "    n_offsprings=20,\n",
        "    sampling=get_sampling(\"int_random\"),\n",
        "    crossover=get_crossover(\"int_sbx\"),\n",
        "    mutation=get_mutation(\"int_pm\"),\n",
        "    eliminate_duplicates=True\n",
        ")\n",
        "# termination criterion\n",
        "\n",
        "from pymoo.factory import get_termination\n",
        "\n",
        "#termination = get_termination(\"n_gen\", 10) # terminate after 40 iterations of the algorithm\n",
        "termination = get_termination(\"time\", \"01:00:00\") # terminate after 1 hour training"
      ],
      "metadata": {
        "id": "hk6RsaTEhdii"
      },
      "execution_count": 57,
      "outputs": []
    },
    {
      "cell_type": "code",
      "source": [
        "import time\n",
        "start_time = time.time()\n",
        "res = minimize(problem, \n",
        "               algorithm,\n",
        "               termination,\n",
        "               seed=1,\n",
        "               save_history=True,\n",
        "               verbose=True)\n",
        "end_time = time.time()\n",
        "\n",
        "print(\"Time: \", (end_time-start_time)/60, \"min\")\n",
        "\n",
        "X_ = res.X # minimize returns result objects\n",
        "F_ = res.F"
      ],
      "metadata": {
        "colab": {
          "base_uri": "https://localhost:8080/"
        },
        "id": "cR-LxCxlhiHp",
        "outputId": "906e204b-4415-4b75-e2d0-4ea4ce8ba122"
      },
      "execution_count": 58,
      "outputs": [
        {
          "output_type": "stream",
          "name": "stdout",
          "text": [
            "=======================================================\n",
            "n_gen |  n_eval |  n_nds  |     eps      |  indicator  \n",
            "=======================================================\n",
            "    1 |      97 |       1 |            - |            -\n",
            "    2 |     117 |       1 |  0.00000E+00 |            f\n",
            "    3 |     137 |       1 |  0.00000E+00 |            f\n",
            "    4 |     157 |       1 |  0.000199375 |            f\n",
            "    5 |     177 |       1 |  0.00000E+00 |            f\n",
            "    6 |     197 |       1 |  0.00000E+00 |            f\n",
            "    7 |     217 |       1 |  0.000305941 |            f\n",
            "    8 |     237 |       1 |  0.00000E+00 |            f\n",
            "    9 |     257 |       1 |  0.000541700 |            f\n",
            "   10 |     277 |       1 |  0.00000E+00 |            f\n",
            "   11 |     297 |       1 |  0.00000E+00 |            f\n",
            "   12 |     317 |       1 |  0.00000E+00 |            f\n",
            "   13 |     337 |       1 |  0.00000E+00 |            f\n",
            "   14 |     357 |       1 |  0.00000E+00 |            f\n",
            "   15 |     377 |       1 |  0.00000E+00 |            f\n",
            "   16 |     397 |       1 |  0.00000E+00 |            f\n",
            "   17 |     417 |       1 |  0.00000E+00 |            f\n",
            "   18 |     437 |       1 |  0.00000E+00 |            f\n",
            "   19 |     457 |       1 |  0.00000E+00 |            f\n",
            "   20 |     477 |       1 |  0.00000E+00 |            f\n",
            "   21 |     497 |       1 |  0.00000E+00 |            f\n",
            "   22 |     517 |       1 |  0.00000E+00 |            f\n",
            "   23 |     537 |       1 |  0.00000E+00 |            f\n",
            "   24 |     557 |       1 |  0.00000E+00 |            f\n",
            "   25 |     577 |       1 |  0.00000E+00 |            f\n",
            "   26 |     597 |       1 |  0.00000E+00 |            f\n",
            "   27 |     617 |       1 |  0.00000E+00 |            f\n",
            "   28 |     637 |       1 |  0.00000E+00 |            f\n",
            "   29 |     657 |       1 |  0.00000E+00 |            f\n",
            "   30 |     677 |       1 |  0.00000E+00 |            f\n",
            "   31 |     697 |       1 |  0.00000E+00 |            f\n",
            "   32 |     717 |       1 |  0.00000E+00 |            f\n",
            "   33 |     737 |       1 |  0.00000E+00 |            f\n",
            "   34 |     757 |       1 |  0.00000E+00 |            f\n",
            "   35 |     777 |       1 |  0.00000E+00 |            f\n",
            "   36 |     797 |       1 |  0.00000E+00 |            f\n",
            "   37 |     817 |       1 |  0.00000E+00 |            f\n",
            "   38 |     837 |       1 |  0.00000E+00 |            f\n",
            "   39 |     857 |       1 |  0.00000E+00 |            f\n",
            "   40 |     877 |       1 |  0.00000E+00 |            f\n",
            "   41 |     897 |       1 |  0.00000E+00 |            f\n",
            "   42 |     917 |       1 |  0.00000E+00 |            f\n",
            "   43 |     937 |       1 |  0.00000E+00 |            f\n",
            "   44 |     957 |       1 |  0.00000E+00 |            f\n",
            "   45 |     977 |       1 |  0.00000E+00 |            f\n",
            "   46 |     997 |       1 |  0.00000E+00 |            f\n",
            "   47 |    1017 |       1 |  0.00000E+00 |            f\n",
            "   48 |    1037 |       1 |  0.00000E+00 |            f\n",
            "   49 |    1057 |       1 |  0.00000E+00 |            f\n",
            "   50 |    1077 |       1 |  0.00000E+00 |            f\n",
            "   51 |    1097 |       1 |  0.00000E+00 |            f\n",
            "   52 |    1117 |       1 |  0.00000E+00 |            f\n",
            "   53 |    1137 |       1 |  0.00000E+00 |            f\n",
            "   54 |    1157 |       1 |  0.00000E+00 |            f\n",
            "   55 |    1177 |       1 |  0.00000E+00 |            f\n",
            "   56 |    1197 |       1 |  0.00000E+00 |            f\n",
            "   57 |    1217 |       1 |  0.00000E+00 |            f\n",
            "   58 |    1237 |       1 |  0.00000E+00 |            f\n",
            "   59 |    1257 |       1 |  0.00000E+00 |            f\n",
            "   60 |    1277 |       1 |  0.00000E+00 |            f\n",
            "   61 |    1297 |       1 |  0.00000E+00 |            f\n",
            "   62 |    1317 |       1 |  0.00000E+00 |            f\n",
            "   63 |    1337 |       1 |  0.00000E+00 |            f\n",
            "   64 |    1357 |       1 |  0.00000E+00 |            f\n",
            "Time:  60.68948752482732 min\n"
          ]
        }
      ]
    },
    {
      "cell_type": "code",
      "source": [
        "rfr_nsga2 = sklearn.ensemble.RandomForestRegressor(n_estimators=X_[0], max_depth = X_[1])\n",
        "rfr_nsga2.fit(X_train, y_train)\n",
        "print(cross_val_score(rfr_nsga2, X_train, y_train, cv=10))\n",
        "print(rfr_nsga2.score(X_test, y_test))"
      ],
      "metadata": {
        "colab": {
          "base_uri": "https://localhost:8080/"
        },
        "id": "fFvNrE_Djctd",
        "outputId": "3512a6a6-b0aa-4c24-8b3e-d6fbf275a699"
      },
      "execution_count": 59,
      "outputs": [
        {
          "output_type": "stream",
          "name": "stdout",
          "text": [
            "[0.74924635 0.86588794 0.82651609 0.7676958  0.64583324 0.75800429\n",
            " 0.71215815 0.8022594  0.85258357 0.21162496]\n",
            "0.9288816767105856\n"
          ]
        }
      ]
    }
  ]
}
